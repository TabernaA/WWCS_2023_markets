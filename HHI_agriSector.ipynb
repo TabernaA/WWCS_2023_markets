{
 "cells": [
  {
   "cell_type": "code",
   "execution_count": 1,
   "id": "fe06d34b",
   "metadata": {},
   "outputs": [],
   "source": [
    "import networkx as nx\n",
    "from networkx.algorithms import bipartite\n",
    "import pandas as pd\n",
    "from matplotlib.pyplot import figure\n",
    "#import plotly.graph_objects as go\n",
    "import numpy as np\n",
    "import matplotlib.pyplot as plt\n",
    "import seaborn as sns"
   ]
  },
  {
   "cell_type": "code",
   "execution_count": 2,
   "id": "61a14533",
   "metadata": {},
   "outputs": [],
   "source": [
    "soy = pd.read_csv(\"/Users/dianagonzales/Downloads/BRAZIl_SOY_2.6.0_tc/BRAZIL_SOY_2.6.0_tc.csv\", sep=\",\")\n",
    "coffee = pd.read_csv(\"/Users/dianagonzales/Downloads/COLOMBIA_COFFEE_1/COLOMBIA_COFFEE_1.0.2_tc.csv\", sep=\",\")\n",
    "cocoa = pd.read_csv(\"/Users/dianagonzales/Downloads/COTE_DIVOIRE_COCOA_1/COTE D'IVOIRE_COCOA_1.0.5_tc.csv\", sep=\",\")\n",
    "shrimp = pd.read_csv(\"/Users/dianagonzales/Downloads/ECUADOR_SHRIMP_1/ECUADOR_SHRIMP_1.0.1_tc.csv\", sep=\",\")\n",
    "beef = pd.read_csv(\"/Users/dianagonzales/Downloads/PARAGUAY_BEEF_1.2.4_pc/PARAGUAY_BEEF_1.2.4_pc.csv\", sep=\",\")"
   ]
  },
  {
   "cell_type": "code",
   "execution_count": 3,
   "id": "1d6cd4f0",
   "metadata": {},
   "outputs": [],
   "source": [
    "soy = soy[soy['EXPORTER GROUP'] != 'DOMESTIC CONSUMPTION'] \n",
    "soy = soy[['YEAR','EXPORTER GROUP', 'COUNTRY OF FIRST IMPORT', 'TOTAL']]\n",
    "soy = soy.groupby(['EXPORTER GROUP', 'COUNTRY OF FIRST IMPORT', 'YEAR']).sum('TOTAL')\n",
    "soy.reset_index(inplace = True)\n",
    "\n",
    "df = soy\n",
    "\n",
    "# full set\n",
    "exp_all = pd.DataFrame(df['EXPORTER GROUP'].unique())\n",
    "imp_all = pd.DataFrame(df['COUNTRY OF FIRST IMPORT'].unique())\n",
    "\n",
    "df_all = pd.merge(exp_all, imp_all, how=\"cross\")\n",
    "\n",
    "df_all.rename(columns = {\"0_x\":\"EXPORTER GROUP\", \"0_y\":\"COUNTRY OF FIRST IMPORT\"}, inplace=True)\n",
    "\n",
    "df_all2 = [df['EXPORTER GROUP'].unique()].append(df['COUNTRY OF FIRST IMPORT'].unique())\n",
    "df_all2 = df_all\n",
    "df_all2['value'] = 0\n",
    "\n",
    "soy_trade_adj = {}\n",
    "soy_trade_list = {}\n",
    "\n",
    "keys = list(range(2004,2021))\n",
    "\n",
    "for i in range(0,17):\n",
    "    df = soy\n",
    "    hola = df_all.merge(df[df[\"YEAR\"] == keys[i]], on=['EXPORTER GROUP','COUNTRY OF FIRST IMPORT'], how='left')\n",
    "    hola.fillna(0, inplace=True)\n",
    "    soy_trade_list[keys[i]] = hola\n",
    "    hola = hola.pivot_table(columns='EXPORTER GROUP', index='COUNTRY OF FIRST IMPORT').reset_index()\n",
    "    soy_trade_adj[keys[i]] = hola\n",
    "\n",
    "    \n",
    "hhi_soy = []\n",
    "\n",
    "for i in range(0,17):\n",
    "    d = soy_trade_list[keys[i]]\n",
    "    d = d.groupby('EXPORTER GROUP').sum('TOTAL')\n",
    "    d['share'] = (d['TOTAL'] / (sum(d['TOTAL']))) **2\n",
    "    hhi_soy.append(sum(d['share']))\n",
    "    \n",
    "HHI_soy = pd.DataFrame(zip(keys,hhi_soy), columns=['YEAR', 'HHI'])\n",
    "HHI_soy['COMMODITY'] = 'soy'\n",
    "HHI_soy['METRIC'] = 'HHI'\n",
    "\n",
    "\n",
    "net_soy = []\n",
    "\n",
    "for i in range(2004,2020):\n",
    "    prev = np.array(soy_trade_adj[i].set_index('COUNTRY OF FIRST IMPORT'))\n",
    "    curr = np.array(soy_trade_adj[i+1].set_index('COUNTRY OF FIRST IMPORT'))\n",
    "    change = sum(sum(abs(curr - prev)))\n",
    "    maximum = sum(sum(prev))\n",
    "    total = change / maximum\n",
    "    net_soy.append(total)\n",
    "    \n",
    "CHURN_soy = pd.DataFrame(zip(keys,net_soy), columns=['YEAR', 'HHI'])\n",
    "CHURN_soy['COMMODITY'] = 'soy'\n",
    "CHURN_soy['METRIC'] = 'market_churn'"
   ]
  },
  {
   "cell_type": "code",
   "execution_count": 4,
   "id": "9816b095",
   "metadata": {},
   "outputs": [],
   "source": [
    "coffee = coffee[['YEAR','EXPORTER GROUP', 'COUNTRY OF DESTINATION', 'TOTAL']]\n",
    "coffee = coffee.groupby(['EXPORTER GROUP', 'COUNTRY OF DESTINATION', 'YEAR']).sum('TOTAL')\n",
    "coffee.reset_index(inplace = True)\n",
    "\n",
    "df = coffee\n",
    "\n",
    "# full set\n",
    "exp_all = pd.DataFrame(df['EXPORTER GROUP'].unique())\n",
    "imp_all = pd.DataFrame(df['COUNTRY OF DESTINATION'].unique())\n",
    "\n",
    "df_all = pd.merge(exp_all, imp_all, how=\"cross\")\n",
    "\n",
    "df_all.rename(columns = {\"0_x\":\"EXPORTER GROUP\", \"0_y\":'COUNTRY OF DESTINATION'}, inplace=True)\n",
    "\n",
    "coffee_trade_adj = {}\n",
    "coffee_trade_list = {}\n",
    "\n",
    "keys = list(range(2012,2017))\n",
    "\n",
    "for i in range(0,5):\n",
    "    df = coffee\n",
    "    hola = df_all.merge(df[df[\"YEAR\"] == keys[i]], on=['EXPORTER GROUP','COUNTRY OF DESTINATION'], how='left')\n",
    "    hola.fillna(0, inplace=True)\n",
    "    coffee_trade_list[keys[i]] = hola\n",
    "    hola = hola.pivot_table(columns='EXPORTER GROUP', index='COUNTRY OF DESTINATION').reset_index()\n",
    "    coffee_trade_adj[keys[i]] = hola\n",
    "    \n",
    "    \n",
    "hhi_coffee = []\n",
    "\n",
    "for i in range(0,5):\n",
    "    d = coffee_trade_list[keys[i]]\n",
    "    d = d.groupby('EXPORTER GROUP').sum('TOTAL')\n",
    "    d['share'] = (d['TOTAL'] / (sum(d['TOTAL']))) **2\n",
    "    hhi_coffee.append(sum(d['share']))\n",
    "    \n",
    "HHI_coffee = pd.DataFrame(zip(keys,hhi_coffee), columns=['YEAR', 'HHI'])\n",
    "HHI_coffee['COMMODITY'] = 'coffee'\n",
    "HHI_coffee['METRIC'] = 'HHI' \n",
    "\n",
    "net_coffee = []\n",
    "\n",
    "for i in range(2012,2016):\n",
    "    prev = np.array(coffee_trade_adj[i].set_index('COUNTRY OF DESTINATION'))\n",
    "    curr = np.array(coffee_trade_adj[i+1].set_index('COUNTRY OF DESTINATION'))\n",
    "    change = sum(sum(abs(curr - prev)))\n",
    "    maximum = sum(sum(prev))\n",
    "    total = change / maximum\n",
    "    net_coffee.append(total)\n",
    "    \n",
    "CHURN_coffee = pd.DataFrame(zip(keys,net_coffee), columns=['YEAR', 'HHI'])\n",
    "CHURN_coffee['COMMODITY'] = 'coffee'\n",
    "CHURN_coffee['METRIC'] = 'market_churn'\n"
   ]
  },
  {
   "cell_type": "code",
   "execution_count": 5,
   "id": "bb69b182",
   "metadata": {},
   "outputs": [],
   "source": [
    "cocoa = cocoa[['YEAR','EXPORTER GROUP', 'COUNTRY OF DESTINATION', 'TOTAL']]\n",
    "cocoa = cocoa.groupby(['EXPORTER GROUP', 'COUNTRY OF DESTINATION', 'YEAR']).sum('TOTAL')\n",
    "cocoa.reset_index(inplace = True)\n",
    "\n",
    "df = cocoa\n",
    "\n",
    "# full set\n",
    "exp_all = pd.DataFrame(df['EXPORTER GROUP'].unique())\n",
    "imp_all = pd.DataFrame(df['COUNTRY OF DESTINATION'].unique())\n",
    "\n",
    "df_all = pd.merge(exp_all, imp_all, how=\"cross\")\n",
    "\n",
    "df_all.rename(columns = {\"0_x\":\"EXPORTER GROUP\", \"0_y\":'COUNTRY OF DESTINATION'}, inplace=True)\n",
    "\n",
    "cocoa_trade_adj = {}\n",
    "cocoa_trade_list = {}\n",
    "\n",
    "keys = list(range(2016,2020))\n",
    "\n",
    "for i in range(0,4):\n",
    "    df = cocoa\n",
    "    hola = df_all.merge(df[df[\"YEAR\"] == keys[i]], on=['EXPORTER GROUP','COUNTRY OF DESTINATION'], how='left')\n",
    "    hola.fillna(0, inplace=True)\n",
    "    cocoa_trade_list[keys[i]] = hola\n",
    "    hola = hola.pivot_table(columns='EXPORTER GROUP', index='COUNTRY OF DESTINATION').reset_index()\n",
    "    cocoa_trade_adj[keys[i]] = hola\n",
    "    \n",
    "hhi_cocoa = []\n",
    "\n",
    "for i in range(0,4):\n",
    "    d = cocoa_trade_list[keys[i]]\n",
    "    d = d.groupby('EXPORTER GROUP').sum('TOTAL')\n",
    "    d['share'] = (d['TOTAL'] / (sum(d['TOTAL']))) **2\n",
    "    hhi_cocoa.append(sum(d['share']))\n",
    "    \n",
    "HHI_cocoa = pd.DataFrame(zip(keys,hhi_cocoa), columns=['YEAR', 'HHI'])\n",
    "HHI_cocoa['COMMODITY'] = 'cocoa' \n",
    "HHI_cocoa['METRIC'] = 'HHI' \n",
    "\n",
    "net_cocoa = []\n",
    "\n",
    "for i in range(2016,2019):\n",
    "    prev = np.array(cocoa_trade_adj[i].set_index('COUNTRY OF DESTINATION'))\n",
    "    curr = np.array(cocoa_trade_adj[i+1].set_index('COUNTRY OF DESTINATION'))\n",
    "    change = sum(sum(abs(curr - prev)))\n",
    "    maximum = sum(sum(prev))\n",
    "    total = change / maximum\n",
    "    net_cocoa.append(total)\n",
    "    \n",
    "CHURN_cocoa = pd.DataFrame(zip(keys,net_cocoa), columns=['YEAR', 'HHI'])\n",
    "CHURN_cocoa['COMMODITY'] = 'cocoa'\n",
    "CHURN_cocoa['METRIC'] = 'market_churn'"
   ]
  },
  {
   "cell_type": "code",
   "execution_count": 6,
   "id": "96e628f9",
   "metadata": {},
   "outputs": [],
   "source": [
    "shrimp = shrimp[['YEAR','EXPORTER GROUP', 'COUNTRY OF DESTINATION', 'TOTAL']]\n",
    "shrimp = shrimp.groupby(['EXPORTER GROUP', 'COUNTRY OF DESTINATION', 'YEAR']).sum('TOTAL')\n",
    "shrimp.reset_index(inplace = True)\n",
    "\n",
    "df = shrimp\n",
    "\n",
    "# full set\n",
    "exp_all = pd.DataFrame(df['EXPORTER GROUP'].unique())\n",
    "imp_all = pd.DataFrame(df['COUNTRY OF DESTINATION'].unique())\n",
    "\n",
    "df_all = pd.merge(exp_all, imp_all, how=\"cross\")\n",
    "\n",
    "df_all.rename(columns = {\"0_x\":\"EXPORTER GROUP\", \"0_y\":'COUNTRY OF DESTINATION'}, inplace=True)\n",
    "\n",
    "shrimp_trade_adj = {}\n",
    "shrimp_trade_list = {}\n",
    "\n",
    "keys = list(range(2013,2020))\n",
    "\n",
    "for i in range(0,7):\n",
    "    df = shrimp\n",
    "    hola = df_all.merge(df[df[\"YEAR\"] == keys[i]], on=['EXPORTER GROUP','COUNTRY OF DESTINATION'], how='left')\n",
    "    hola.fillna(0, inplace=True)\n",
    "    shrimp_trade_list[keys[i]] = hola\n",
    "    hola = hola.pivot_table(columns='EXPORTER GROUP', index='COUNTRY OF DESTINATION').reset_index()\n",
    "    shrimp_trade_adj[keys[i]] = hola\n",
    "    \n",
    "    \n",
    "hhi_shrimp = []\n",
    "\n",
    "for i in range(0,7):\n",
    "    d = shrimp_trade_list[keys[i]]\n",
    "    d = d.groupby('EXPORTER GROUP').sum('TOTAL')\n",
    "    d['share'] = (d['TOTAL'] / (sum(d['TOTAL']))) **2\n",
    "    hhi_shrimp.append(sum(d['share']))\n",
    "    \n",
    "HHI_shrimp = pd.DataFrame(zip(keys,hhi_shrimp), columns=['YEAR', 'HHI'])\n",
    "HHI_shrimp['COMMODITY'] = 'shrimp' \n",
    "HHI_shrimp['METRIC'] = 'HHI' \n",
    "\n",
    "net_shrimp = []\n",
    "\n",
    "for i in range(2013,2019):\n",
    "    prev = np.array(shrimp_trade_adj[i].set_index('COUNTRY OF DESTINATION'))\n",
    "    curr = np.array(shrimp_trade_adj[i+1].set_index('COUNTRY OF DESTINATION'))\n",
    "    change = sum(sum(abs(curr - prev)))\n",
    "    maximum = sum(sum(prev))\n",
    "    total = change / maximum\n",
    "    net_shrimp.append(total)\n",
    "    \n",
    "CHURN_shrimp = pd.DataFrame(zip(keys,net_shrimp), columns=['YEAR', 'HHI'])\n",
    "CHURN_shrimp['COMMODITY'] = 'shrimp'\n",
    "CHURN_shrimp['METRIC'] = 'market_churn'"
   ]
  },
  {
   "cell_type": "code",
   "execution_count": 7,
   "id": "5bdfff13",
   "metadata": {},
   "outputs": [],
   "source": [
    "beef = beef[['YEAR','EXPORTER GROUP', 'COUNTRY OF DESTINATION', 'BEEF_EQUIVALENT_TONNES']]\n",
    "beef = beef.groupby(['EXPORTER GROUP', 'COUNTRY OF DESTINATION', 'YEAR']).sum('BEEF_EQUIVALENT_TONNES')\n",
    "beef.reset_index(inplace = True)\n",
    "\n",
    "df = beef\n",
    "\n",
    "# full set\n",
    "exp_all = pd.DataFrame(df['EXPORTER GROUP'].unique())\n",
    "imp_all = pd.DataFrame(df['COUNTRY OF DESTINATION'].unique())\n",
    "\n",
    "df_all = pd.merge(exp_all, imp_all, how=\"cross\")\n",
    "\n",
    "df_all.rename(columns = {\"0_x\":\"EXPORTER GROUP\", \"0_y\":'COUNTRY OF DESTINATION'}, inplace=True)\n",
    "\n",
    "beef_trade_adj = {}\n",
    "beef_trade_list = {}\n",
    "\n",
    "keys = list(range(2014,2020))\n",
    "\n",
    "for i in range(0,6):\n",
    "    df = beef\n",
    "    hola = df_all.merge(df[df[\"YEAR\"] == keys[i]], on=['EXPORTER GROUP','COUNTRY OF DESTINATION'], how='left')\n",
    "    hola.fillna(0, inplace=True)\n",
    "    beef_trade_list[keys[i]] = hola\n",
    "    hola = hola.pivot_table(columns='EXPORTER GROUP', index='COUNTRY OF DESTINATION').reset_index()\n",
    "    beef_trade_adj[keys[i]] = hola\n",
    "    \n",
    "    \n",
    "hhi_beef = []\n",
    "\n",
    "for i in range(0,6):\n",
    "    d = beef_trade_list[keys[i]]\n",
    "    d = d.groupby('EXPORTER GROUP').sum('BEEF_EQUIVALENT_TONNES')\n",
    "    d['share'] = (d['BEEF_EQUIVALENT_TONNES'] / (sum(d['BEEF_EQUIVALENT_TONNES']))) **2\n",
    "    hhi_beef.append(sum(d['share']))\n",
    "    \n",
    "HHI_beef = pd.DataFrame(zip(keys,hhi_beef), columns=['YEAR', 'HHI'])\n",
    "HHI_beef['COMMODITY'] = 'beef'\n",
    "HHI_beef['METRIC'] = 'HHI' \n",
    "\n",
    "net_beef = []\n",
    "\n",
    "for i in range(2014,2019):\n",
    "    prev = np.array(beef_trade_adj[i].set_index('COUNTRY OF DESTINATION'))\n",
    "    curr = np.array(beef_trade_adj[i+1].set_index('COUNTRY OF DESTINATION'))\n",
    "    change = sum(sum(abs(curr - prev)))\n",
    "    maximum = sum(sum(prev))\n",
    "    total = change / maximum\n",
    "    net_beef.append(total)\n",
    "    \n",
    "CHURN_beef = pd.DataFrame(zip(keys,net_shrimp), columns=['YEAR', 'HHI'])\n",
    "CHURN_beef['COMMODITY'] = 'beef'\n",
    "CHURN_beef['METRIC'] = 'market_churn'"
   ]
  },
  {
   "cell_type": "code",
   "execution_count": 12,
   "id": "3e3f7ce6",
   "metadata": {},
   "outputs": [
    {
     "data": {
      "text/plain": [
       "<AxesSubplot:xlabel='YEAR', ylabel='HHI'>"
      ]
     },
     "execution_count": 12,
     "metadata": {},
     "output_type": "execute_result"
    },
    {
     "data": {
      "image/png": "[encoded data removed]",
      "text/plain": [
       "<Figure size 432x288 with 1 Axes>"
      ]
     },
     "metadata": {
      "needs_background": "light"
     },
     "output_type": "display_data"
    }
   ],
   "source": [
    "HHI = pd.concat([HHI_soy, HHI_coffee, HHI_cocoa, HHI_shrimp, HHI_beef, \n",
    "                 CHURN_soy, CHURN_coffee, CHURN_cocoa, CHURN_shrimp, CHURN_beef])\n",
    "sns.lineplot(data=HHI[HHI['COMMODITY'] == 'soy'], y='HHI', x='YEAR',  style='METRIC') # hue = 'COMMODITY',"
   ]
  },
  {
   "cell_type": "code",
   "execution_count": 10,
   "id": "b2337de6",
   "metadata": {},
   "outputs": [
    {
     "data": {
      "text/plain": [
       "<seaborn.axisgrid.FacetGrid at 0x7f8e63c21d30>"
      ]
     },
     "execution_count": 10,
     "metadata": {},
     "output_type": "execute_result"
    },
    {
     "data": {
      "image/png": "[encoded data removed]",
      "text/plain": [
       "<Figure size 720x360 with 2 Axes>"
      ]
     },
     "metadata": {
      "needs_background": "light"
     },
     "output_type": "display_data"
    }
   ],
   "source": [
    "sns.relplot(\n",
    "    data=HHI[HHI['COMMODITY'] == 'soy'], x=\"YEAR\", y=\"HHI\",\n",
    "    col=\"METRIC\", #hue=\"COMMODITY\", #style=\"event\",\n",
    "    kind=\"line\"\n",
    ")"
   ]
  },
  {
   "cell_type": "code",
   "execution_count": null,
   "id": "95626dfe",
   "metadata": {},
   "outputs": [],
   "source": [
    "dsoy = soy_trade_list[2020]\n",
    "dsoy = dsoy.groupby(['EXPORTER GROUP', 'YEAR']).sum('TOTAL').reset_index()\n",
    "dsoy['RANK'] = dsoy.groupby('YEAR')['TOTAL'].rank(ascending=False)\n",
    "dsoy['COMMODITY'] = \"soy\"\n",
    "\n",
    "\n",
    "dsoy18 = soy_trade_list[2018]\n",
    "dsoy18 = dsoy18.groupby(['EXPORTER GROUP', 'YEAR']).sum('TOTAL').reset_index()\n",
    "dsoy18['RANK'] = dsoy18.groupby('YEAR')['TOTAL'].rank(ascending=False)\n",
    "dsoy18['COMMODITY'] = \"soy\"\n",
    "\n",
    "dsoy19 = soy_trade_list[2019]\n",
    "dsoy19 = dsoy19.groupby(['EXPORTER GROUP', 'YEAR']).sum('TOTAL').reset_index()\n",
    "dsoy19['RANK'] = dsoy19.groupby('YEAR')['TOTAL'].rank(ascending=False)\n",
    "dsoy19['COMMODITY'] = \"soy\"\n",
    "\n",
    "RANK = pd.concat([dsoy18, dsoy19, dsoy])\n"
   ]
  },
  {
   "cell_type": "code",
   "execution_count": null,
   "id": "1bfef299",
   "metadata": {},
   "outputs": [],
   "source": [
    "sns.lineplot(data=RANK[RANK['RANK']<30], y='TOTAL', x='RANK', hue = 'YEAR')"
   ]
  },
  {
   "cell_type": "code",
   "execution_count": null,
   "id": "47e321ee",
   "metadata": {},
   "outputs": [],
   "source": [
    "grafos = {}\n",
    "\n",
    "keys = list(range(2004,2021))\n",
    "diana = soy\n",
    "\n",
    "for i in range(0,17):\n",
    "    df = diana[diana[\"YEAR\"] == keys[i]]\n",
    "    \n",
    "    alan = []\n",
    "    for row in df.index:\n",
    "        alan.append((df[\"EXPORTER GROUP\"][row], df[\"COUNTRY OF FIRST IMPORT\"][row], {'weight': df[\"TOTAL\"][row]})) \n",
    "\n",
    "    B = nx.Graph()\n",
    "    B.add_nodes_from(df['EXPORTER GROUP'].unique().tolist(), bipartite=0)\n",
    "    B.add_nodes_from(df['COUNTRY OF FIRST IMPORT'].unique().tolist(), bipartite=1)\n",
    "    B.add_edges_from(alan)\n",
    "    grafos[keys[i]] = B"
   ]
  },
  {
   "cell_type": "code",
   "execution_count": null,
   "id": "59df5553",
   "metadata": {},
   "outputs": [],
   "source": [
    "am = grafos[2020]\n",
    "firms = dsoy[dsoy['RANK']<30]['EXPORTER GROUP']\n",
    "deg = pd.DataFrame(am.degree(firms), columns=['EXPORTER GROUP', 'DEGREE'])\n",
    "dsoy = dsoy.merge(deg, on='EXPORTER GROUP', how='left')\n",
    "\n",
    "am19 = grafos[2019]\n",
    "firms19 = dsoy19[dsoy19['RANK']<30]['EXPORTER GROUP']\n",
    "deg19 = pd.DataFrame(am19.degree(firms19), columns=['EXPORTER GROUP', 'DEGREE'])\n",
    "dsoy19 = dsoy19.merge(deg, on='EXPORTER GROUP', how='left')\n",
    "dsoy19\n",
    "\n",
    "am18 = grafos[2018]\n",
    "firms18 = dsoy18[dsoy18['RANK']<30]['EXPORTER GROUP']\n",
    "deg18 = pd.DataFrame(am18.degree(firms18), columns=['EXPORTER GROUP', 'DEGREE'])\n",
    "dsoy18 = dsoy18.merge(deg, on='EXPORTER GROUP', how='left')\n",
    "dsoy18\n",
    "\n",
    "DEGREE = pd.concat([dsoy18, dsoy19, dsoy])"
   ]
  },
  {
   "cell_type": "code",
   "execution_count": null,
   "id": "362deaaa",
   "metadata": {},
   "outputs": [],
   "source": [
    "sns.lineplot(data=DEGREE[(DEGREE['RANK']<30) & (DEGREE['RANK']>0)], y='DEGREE', x='RANK', hue = 'YEAR')"
   ]
  },
  {
   "cell_type": "code",
   "execution_count": null,
   "id": "b583ba48",
   "metadata": {},
   "outputs": [],
   "source": [
    "dsoy19[dsoy19['RANK']<30]"
   ]
  },
  {
   "cell_type": "code",
   "execution_count": null,
   "id": "369f2096",
   "metadata": {},
   "outputs": [],
   "source": [
    "RANK = pd.concat([dsoy18, dsoy19, dsoy])"
   ]
  },
  {
   "cell_type": "code",
   "execution_count": null,
   "id": "abbb75db",
   "metadata": {},
   "outputs": [],
   "source": [
    "firms = RANK[RANK['RANK']<10]['EXPORTER GROUP']\n",
    "firms"
   ]
  },
  {
   "cell_type": "code",
   "execution_count": null,
   "id": "acbd9f39",
   "metadata": {},
   "outputs": [],
   "source": [
    "trade_adj = {}\n",
    "trade_list = {}\n",
    "\n",
    "keys = list(range(2004,2021))\n",
    "\n",
    "for i in range(0,17):\n",
    "    hola = df_all.merge(df[df[\"YEAR\"] == keys[i]], on=['EXPORTER GROUP','COUNTRY OF FIRST IMPORT'], how='left')\n",
    "    hola.fillna(0, inplace=True)\n",
    "    trade_list[keys[i]] = hola\n",
    "    hola = hola.pivot_table(columns='EXPORTER GROUP', index='COUNTRY OF FIRST IMPORT').reset_index()\n",
    "    trade_adj[keys[i]] = hola"
   ]
  },
  {
   "cell_type": "code",
   "execution_count": null,
   "id": "a5be60f9",
   "metadata": {},
   "outputs": [],
   "source": [
    "df = pd.read_csv(\"/Users/dianagonzales/Downloads/BRAZIl_SOY_2.6.0_tc/BRAZIL_SOY_2.6.0_tc.csv\", sep=\",\")\n",
    "#df = df[df[\"YEAR\"] == 2020]\n",
    "df = df[['YEAR','EXPORTER GROUP', 'COUNTRY OF FIRST IMPORT', 'TOTAL']]\n",
    "df = df.groupby(['EXPORTER GROUP', 'COUNTRY OF FIRST IMPORT', 'YEAR']).sum('TOTAL')\n",
    "df.reset_index(inplace = True)"
   ]
  },
  {
   "cell_type": "code",
   "execution_count": null,
   "id": "69ea21ac",
   "metadata": {},
   "outputs": [],
   "source": [
    "# full set\n",
    "exp_all = pd.DataFrame(df['EXPORTER GROUP'].unique())\n",
    "imp_all = pd.DataFrame(df['COUNTRY OF FIRST IMPORT'].unique())\n",
    "\n",
    "df_all = pd.merge(exp_all, imp_all, how=\"cross\")\n",
    "\n",
    "df_all.rename(columns = {\"0_x\":\"EXPORTER GROUP\", \"0_y\":\"COUNTRY OF FIRST IMPORT\"}, inplace=True)"
   ]
  },
  {
   "cell_type": "code",
   "execution_count": null,
   "id": "d9906c6d",
   "metadata": {},
   "outputs": [],
   "source": [
    "d2020 = df_all.merge(df[df[\"YEAR\"] == 2004], on=['EXPORTER GROUP','COUNTRY OF FIRST IMPORT'], how='left')\n",
    "d2020['TOTAL'].fillna(0, inplace=True)\n",
    "d2020['net'] = sum(d2020['TOTAL'])\n",
    "d2020['share'] = (d2020['TOTAL'] / d2020['net']) ** 2\n",
    "d2020.sort_values('TOTAL', ascending=False)\n",
    "\n",
    "sum(d2020['share'])"
   ]
  },
  {
   "cell_type": "code",
   "execution_count": null,
   "id": "a7bd0c9f",
   "metadata": {},
   "outputs": [],
   "source": [
    "trade_adj = {}\n",
    "trade_list = {}\n",
    "\n",
    "keys = list(range(2004,2021))\n",
    "\n",
    "for i in range(0,17):\n",
    "    hola = df_all.merge(df[df[\"YEAR\"] == keys[i]], on=['EXPORTER GROUP','COUNTRY OF FIRST IMPORT'], how='left')\n",
    "    hola.fillna(0, inplace=True)\n",
    "    trade_list[keys[i]] = hola\n",
    "    hola = hola.pivot_table(columns='EXPORTER GROUP', index='COUNTRY OF FIRST IMPORT').reset_index()\n",
    "    trade_adj[keys[i]] = hola"
   ]
  },
  {
   "cell_type": "code",
   "execution_count": null,
   "id": "0fe08a99",
   "metadata": {},
   "outputs": [],
   "source": [
    "hhi = []\n",
    "\n",
    "for i in range(0,17):\n",
    "    d = trade_list[keys[i]]\n",
    "    d['share'] = (d['TOTAL'] / (sum(d['TOTAL']))) **2\n",
    "    hhi.append(sum(d['share']))\n",
    "    \n",
    "HHI = pd.DataFrame(zip(keys,hhi), columns=['YEAR', 'HHI'])\n",
    "#HHI "
   ]
  },
  {
   "cell_type": "code",
   "execution_count": null,
   "id": "4f32d79f",
   "metadata": {},
   "outputs": [],
   "source": [
    "trade_adj[2010]"
   ]
  },
  {
   "cell_type": "code",
   "execution_count": null,
   "id": "f6978b98",
   "metadata": {},
   "outputs": [],
   "source": []
  },
  {
   "cell_type": "code",
   "execution_count": null,
   "id": "15c6bc64",
   "metadata": {},
   "outputs": [],
   "source": [
    "net = []\n",
    "\n",
    "for i in range(0,17):\n",
    "    prev = np.array(trade_adj[2010].set_index('COUNTRY OF FIRST IMPORT'))\n",
    "    curr = np.array(trade_adj[2011].set_index('COUNTRY OF FIRST IMPORT'))\n",
    "    change = sum(sum(abs(curr - prev)))\n",
    "    maximum = sum(sum(prev))\n",
    "    total = change / maximum\n",
    "    net.append(total)\n",
    "    \n",
    "CHURN = pd.DataFrame(zip(keys,net), columns=['YEAR', 'HHI'])"
   ]
  },
  {
   "cell_type": "code",
   "execution_count": null,
   "id": "621131bd",
   "metadata": {},
   "outputs": [],
   "source": [
    "soy"
   ]
  },
  {
   "cell_type": "code",
   "execution_count": null,
   "id": "c6a1c69f",
   "metadata": {},
   "outputs": [],
   "source": [
    "trade_adj[2010]"
   ]
  },
  {
   "cell_type": "code",
   "execution_count": null,
   "id": "5f87dba4",
   "metadata": {},
   "outputs": [],
   "source": [
    "dist = []\n",
    "\n",
    "for i in range(0,16):\n",
    "    prev = trade_adj[keys[i]]\n",
    "    curr = trade_adj[keys[i+1]]\n",
    "    change = sum(sum(abs(curr - prev)))\n",
    "    maximum = sum(sum(prev)) + sum(sum(curr))\n",
    "    dist.append(change)\n",
    "    \n",
    "dist\n",
    "  "
   ]
  },
  {
   "cell_type": "code",
   "execution_count": null,
   "id": "56526a3a",
   "metadata": {},
   "outputs": [],
   "source": [
    "d2020 = trade_list[2020]\n",
    "d2020['share'] = (d2020['TOTAL'] / (sum(d2020['TOTAL']))) **2\n",
    "sum(d2020['share'])"
   ]
  },
  {
   "cell_type": "code",
   "execution_count": null,
   "id": "e21a0640",
   "metadata": {},
   "outputs": [],
   "source": [
    "grafos = {}\n",
    "\n",
    "keys = list(range(2004,2021))\n",
    "diana = soy\n",
    "\n",
    "for i in range(0,17):\n",
    "    df = diana[diana[\"YEAR\"] == keys[i]]\n",
    "    \n",
    "    alan = []\n",
    "    for j in range(0, len(df)):\n",
    "        alan.append((df.loc[j][\"EXPORTER GROUP\"], df.loc[j][\"COUNTRY OF FIRST IMPORT\"], {'exports': df.loc[j][\"TOTAL\"]})) \n",
    "    \n",
    "    B = nx.Graph()\n",
    "    B.add_nodes_from(df['EXPORTER GROUP'].unique().tolist())\n",
    "    B.add_nodes_from(df['COUNTRY OF FIRST IMPORT'].unique().tolist())\n",
    "    B.add_edges_from(alan)\n",
    "    grafos[keys[i]] = B\n"
   ]
  },
  {
   "cell_type": "code",
   "execution_count": null,
   "id": "0e21ccb0",
   "metadata": {},
   "outputs": [],
   "source": [
    "grafos"
   ]
  },
  {
   "cell_type": "code",
   "execution_count": null,
   "id": "46690dbb",
   "metadata": {},
   "outputs": [],
   "source": [
    "alan = []\n",
    "for i in range(0, len(df)):\n",
    "    alan.append((df.loc[i][\"EXPORTER GROUP\"], df.loc[i][\"COUNTRY OF FIRST IMPORT\"], {'exports': df.loc[i][\"TOTAL\"]}))    "
   ]
  },
  {
   "cell_type": "code",
   "execution_count": null,
   "id": "0a55d0b1",
   "metadata": {},
   "outputs": [],
   "source": [
    "B = nx.Graph()\n",
    "\n",
    "B.add_nodes_from(df['EXPORTER GROUP'].unique().tolist(), bipartite=\"firm\")\n",
    "B.add_nodes_from(df['COUNTRY OF FIRST IMPORT'].unique().tolist(), bipartite=\"country\")\n",
    "B.add_edges_from(alan)"
   ]
  },
  {
   "cell_type": "code",
   "execution_count": null,
   "id": "2dc31f93",
   "metadata": {},
   "outputs": [],
   "source": [
    "B.nodes(data=True)"
   ]
  },
  {
   "cell_type": "code",
   "execution_count": null,
   "id": "21ad461a",
   "metadata": {},
   "outputs": [],
   "source": [
    "firm_nodes = {n for n, d in B.nodes(data=True) if d[\"bipartite\"] == \"firm\"}\n",
    "country_nodes = set(B) - firm_nodes"
   ]
  },
  {
   "cell_type": "code",
   "execution_count": null,
   "id": "19bafc75",
   "metadata": {},
   "outputs": [],
   "source": [
    "country_nodes"
   ]
  },
  {
   "cell_type": "code",
   "execution_count": null,
   "id": "277f5a43",
   "metadata": {},
   "outputs": [],
   "source": [
    "a = nx.generate_adjlist(B)\n"
   ]
  },
  {
   "cell_type": "code",
   "execution_count": null,
   "id": "8793fe69",
   "metadata": {},
   "outputs": [],
   "source": [
    "nx.degree_centrality(B)"
   ]
  },
  {
   "cell_type": "code",
   "execution_count": null,
   "id": "dc6e8127",
   "metadata": {},
   "outputs": [],
   "source": [
    "#nodos = {}\n",
    "#for x in B.nodes:\n",
    "#    nodos[x] = len(B[x])\n",
    "#s = pd.Series(nodos, name='connections')\n",
    "#df2 = s.to_frame().sort_values('connections', ascending=False)"
   ]
  },
  {
   "cell_type": "code",
   "execution_count": null,
   "id": "fe5496c6",
   "metadata": {},
   "outputs": [],
   "source": [
    "#one = df2[df2['connections'] == 1].index.to_list()"
   ]
  },
  {
   "cell_type": "code",
   "execution_count": null,
   "id": "0758ff04",
   "metadata": {},
   "outputs": [],
   "source": [
    "#df3 = df[~df['EXPORTER GROUP'].isin(one)]"
   ]
  },
  {
   "cell_type": "code",
   "execution_count": null,
   "id": "656161e3",
   "metadata": {},
   "outputs": [],
   "source": [
    "#G = nx.from_pandas_edgelist(df3, 'EXPORTER GROUP', 'COUNTRY OF FIRST IMPORT', ['TOTAL'])\n",
    "figure(figsize=(10, 8))\n",
    "nx.draw_shell(B, with_labels=False)"
   ]
  },
  {
   "cell_type": "code",
   "execution_count": null,
   "id": "0440b322",
   "metadata": {},
   "outputs": [],
   "source": [
    "if self.time > 0:\n",
    "            prev = nx.adjacency_matrix(self.graphs[-1]).A\n",
    "            curr = nx.adjacency_matrix(self.G).A\n",
    "            change = sum(sum(abs(curr - prev)))\n",
    "            maximum = sum(sum(prev)) + sum(sum(curr))\n",
    "            self.diff = change/maximum if maximum > 0 else 0\n",
    "        self.graphs.append(self.G.copy())\n",
    "        \n"
   ]
  },
  {
   "cell_type": "code",
   "execution_count": null,
   "id": "d4f7fd4a",
   "metadata": {},
   "outputs": [],
   "source": [
    " "
   ]
  },
  {
   "cell_type": "code",
   "execution_count": null,
   "id": "fc65a9a9",
   "metadata": {},
   "outputs": [],
   "source": [
    "len(df['EXPORTER GROUP'].unique()) * len(df['COUNTRY OF FIRST IMPORT'].unique())"
   ]
  },
  {
   "cell_type": "code",
   "execution_count": null,
   "id": "9a7b71ee",
   "metadata": {},
   "outputs": [],
   "source": [
    "df_all.merge()"
   ]
  }
 ],
 "metadata": {
  "kernelspec": {
   "display_name": "Python 3",
   "language": "python",
   "name": "python3"
  },
  "language_info": {
   "codemirror_mode": {
    "name": "ipython",
    "version": 3
   },
   "file_extension": ".py",
   "mimetype": "text/x-python",
   "name": "python",
   "nbconvert_exporter": "python",
   "pygments_lexer": "ipython3",
   "version": "3.8.8"
  }
 },
 "nbformat": 4,
 "nbformat_minor": 5
}
