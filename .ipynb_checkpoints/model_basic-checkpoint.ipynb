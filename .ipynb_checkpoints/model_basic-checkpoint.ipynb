{
 "cells": [
  {
   "cell_type": "code",
   "execution_count": 1,
   "metadata": {},
   "outputs": [
    {
     "ename": "ModuleNotFoundError",
     "evalue": "No module named 'numpy'",
     "output_type": "error",
     "traceback": [
      "\u001b[0;31m---------------------------------------------------------------------------\u001b[0m",
      "\u001b[0;31mModuleNotFoundError\u001b[0m                       Traceback (most recent call last)",
      "Cell \u001b[0;32mIn[1], line 1\u001b[0m\n\u001b[0;32m----> 1\u001b[0m \u001b[38;5;28;01mimport\u001b[39;00m \u001b[38;5;21;01mnumpy\u001b[39;00m \u001b[38;5;28;01mas\u001b[39;00m \u001b[38;5;21;01mnp\u001b[39;00m\n\u001b[1;32m      2\u001b[0m \u001b[38;5;28;01mimport\u001b[39;00m \u001b[38;5;21;01mpandas\u001b[39;00m \u001b[38;5;28;01mas\u001b[39;00m \u001b[38;5;21;01mpd\u001b[39;00m\n\u001b[1;32m      3\u001b[0m \u001b[38;5;28;01mimport\u001b[39;00m \u001b[38;5;21;01mmatplotlib\u001b[39;00m\u001b[38;5;21;01m.\u001b[39;00m\u001b[38;5;21;01mpyplot\u001b[39;00m \u001b[38;5;28;01mas\u001b[39;00m \u001b[38;5;21;01mplt\u001b[39;00m\n",
      "\u001b[0;31mModuleNotFoundError\u001b[0m: No module named 'numpy'"
     ]
    }
   ],
   "source": [
    "import numpy as np\n",
    "import pandas as pd\n",
    "import matplotlib.pyplot as plt\n",
    "import seaborn as sns\n",
    "\n",
    "from mesa import Model, Agent\n",
    "from mesa.time import RandomActivationByType, BaseScheduler\n",
    "from mesa.space import SingleGrid\n",
    "from mesa.datacollection import DataCollector\n"
   ]
  },
  {
   "cell_type": "code",
   "execution_count": 57,
   "metadata": {},
   "outputs": [],
   "source": [
    "\n",
    "class Market(Model):\n",
    "    \"\"\"Model class for the Market model. \"\"\"\n",
    "\n",
    "    def __init__(self, F=50, H=300\n",
    "\n",
    "                 ):\n",
    "        \"\"\"Initialization of the CRAB model.\n",
    "\n",
    "        Args:\n",
    "            F                  : Number of  firm agents\n",
    "            H                   : Number of household agents\n",
    "        \"\"\"\n",
    "        # Number of agents for initialization\n",
    "        self.init_n_firms = F\n",
    "        self.init_n_hh = H\n",
    "        self.current_id = 0\n",
    "\n",
    "        # Set up the  order\n",
    "        self.schedule = BaseScheduler(self)\n",
    "\n",
    "        # create households\n",
    "        for j in range(self.init_n_hh):\n",
    "\n",
    "            income =  np.random.uniform(1, 10)\n",
    "            a = Household(self, income)\n",
    "            self.schedule.add(a)\n",
    "\n",
    "        # Create firms\n",
    "        for i in range(self.init_n_firms):\n",
    "\n",
    "            quality = np.random.uniform(0, 1)\n",
    "            price = 1\n",
    "            a = Firm(self, quality, price, production=50)\n",
    "            self.schedule.add(a)\n",
    "\n",
    "        # Datacollector\n",
    "        self.datacollector = DataCollector(\n",
    "\n",
    "            agent_reporters={\"Type\": lambda a: type(a).__name__,\n",
    "                             \"Quality\": lambda a: a.quality if type(a) is Firm else None,\n",
    "                             \"Revenue\": lambda a: a.revenue if type(a) is Firm else None,\n",
    "                             \"Quantity_sold\": lambda a: a.quantity_sold if type(a) is Firm else None,\n",
    "                             \"Price\": lambda a: a.price if type(a) is Firm else None,\n",
    "                            \"Initial_budget\": lambda a: a.initial_budget if type(a) is Household else None,\n",
    "                             \"budget\": lambda a: a.budget if type(a) is Household else None\n",
    "                             }\n",
    "        )\n",
    "\n",
    "    def step(self):\n",
    "        \"\"\"\n",
    "        Run one step of the model.\n",
    "        \"\"\"\n",
    "        # create a list with firms object\n",
    "        self.available_firms = [\n",
    "            agent for agent in self.schedule.agents if type(agent) is Firm]\n",
    "\n",
    "        self.datacollector.collect(self)\n",
    "        self.schedule.step()\n",
    "    \"\"\"\n",
    "    Firms agent\n",
    "\n",
    "    Parameters\n",
    "    ----------\n",
    "\n",
    "    \"\"\"\n",
    "\n",
    "    def __init__(self, model, quality, price, production=10):\n",
    "        supe\n",
    "\n",
    "        # Compur().__init__(model.next_id(), model)\n",
    "        self.quality = quality\n",
    "        self.price = price\n",
    "        self.production = production\n",
    "        self.initial_production = production\n",
    "        self.revenue = 0\n",
    "        self.price_change = 0.01\n",
    "        self.quantity_sold = 0\n",
    "\n",
    "    def step(self):\n",
    "       # print('I am ', self.unique_id, type(self) )\n",
    "        # compute the revenue\n",
    "        self.revenue = self.price * (self.initial_production - self.production)\n",
    "        # increase the price if  the production is 0.3 of the initial production\n",
    "        if self.production < 0.3 * self.initial_production:\n",
    "            self.price = self.price * (1 + self.price_change)\n",
    "\n",
    "        # decrease the price if the production is 0.3 of the initial production\n",
    "        elif self.production > 0.7 * self.initial_production:\n",
    "            self.price = max(0.1, self.price * (1 - self.price_change))\n",
    "\n",
    "        self.quantity_sold = (self.initial_production - self.production)\n",
    "        self.production = self.initial_production\n",
    "\n",
    "\n",
    "class Household(Agent):\n",
    "    \"\"\"\n",
    "    Household  agent\n",
    "\n",
    "    Parameters\n",
    "    ----------\n",
    "\n",
    "    \"\"\"\n",
    "\n",
    "    def __init__(self, model, budget):\n",
    "\n",
    "        super().__init__(model.next_id(), model)\n",
    "\n",
    "        self.budget = budget\n",
    "        self.initial_budget = budget\n",
    "\n",
    "    def step(self):\n",
    "       # print('I am ', self.unique_id, type(self))\n",
    "\n",
    "        self.budget = self.initial_budget\n",
    "   \n",
    "        while self.budget > 0:\n",
    "\n",
    "            #if len(self.model.available_firms) > 0:\n",
    "                # print( \" I am after thelen(self.model.available_firms))\n",
    "            quality = 0\n",
    "            buyer = None\n",
    "            for firm in self.model.available_firms:\n",
    "                if (firm.quality > quality) and (firm.price <= self.budget):\n",
    "                    buyer = firm\n",
    "                    quality = firm.quality\n",
    "\n",
    "            #print(buyer)\n",
    "            if buyer !=  None:\n",
    "                buyer.production -= 1 \n",
    "                self.budget -= buyer.price\n",
    "\n",
    "                if buyer.production <= 0:\n",
    "                    self.model.available_firms.remove(buyer)\n",
    "               # print(buyer.production)\n",
    "            else:\n",
    "                break\n",
    "        \n",
    "                    \n",
    "                '''\n",
    "                if buyer.production > self.budget/buyer.price:\n",
    "                    self.quantity = self.budget/buyer.price\n",
    "                else:\n",
    "                    self.quantity = buyer.production\n",
    "                # print(self.quantity)\n",
    "                # update the budget\n",
    "                self.budget = self.budget - self.quantity*buyer.price\n",
    "                # update the production\n",
    "                buyer.production = buyer.production - self.quantity\n",
    "                #print( ' My budget is ', self.budget)\n",
    "                # if the production is 0, the firm is removed from the list of available firms\n",
    "                '''\n",
    "    \n",
    "             \n",
    "\n",
    "        # select a\n"
   ]
  },
  {
   "cell_type": "code",
   "execution_count": 58,
   "metadata": {},
   "outputs": [
    {
     "ename": "TypeError",
     "evalue": "Market.__init__() missing 1 required positional argument: 'price'",
     "output_type": "error",
     "traceback": [
      "\u001b[0;31m---------------------------------------------------------------------------\u001b[0m",
      "\u001b[0;31mTypeError\u001b[0m                                 Traceback (most recent call last)",
      "\u001b[1;32m/Users/ataberna/Documents/WWCS_2023/WWCS_2023_markets/model_basic.ipynb Cell 3\u001b[0m in \u001b[0;36m<cell line: 1>\u001b[0;34m()\u001b[0m\n\u001b[0;32m----> <a href='vscode-notebook-cell:/Users/ataberna/Documents/WWCS_2023/WWCS_2023_markets/model_basic.ipynb#X25sZmlsZQ%3D%3D?line=0'>1</a>\u001b[0m model \u001b[39m=\u001b[39m Market(\u001b[39m50\u001b[39;49m,\u001b[39m250\u001b[39;49m)\n\u001b[1;32m      <a href='vscode-notebook-cell:/Users/ataberna/Documents/WWCS_2023/WWCS_2023_markets/model_basic.ipynb#X25sZmlsZQ%3D%3D?line=1'>2</a>\u001b[0m steps \u001b[39m=\u001b[39m \u001b[39m100\u001b[39m\n\u001b[1;32m      <a href='vscode-notebook-cell:/Users/ataberna/Documents/WWCS_2023/WWCS_2023_markets/model_basic.ipynb#X25sZmlsZQ%3D%3D?line=2'>3</a>\u001b[0m \u001b[39mfor\u001b[39;00m i \u001b[39min\u001b[39;00m \u001b[39mrange\u001b[39m(steps):\n\u001b[1;32m      <a href='vscode-notebook-cell:/Users/ataberna/Documents/WWCS_2023/WWCS_2023_markets/model_basic.ipynb#X25sZmlsZQ%3D%3D?line=3'>4</a>\u001b[0m     \u001b[39m#print('step', i)\u001b[39;00m\n",
      "\u001b[0;31mTypeError\u001b[0m: Market.__init__() missing 1 required positional argument: 'price'"
     ]
    }
   ],
   "source": [
    "model = Market(50,250)\n",
    "steps = 100\n",
    "for i in range(steps):\n",
    "    #print('step', i)\n",
    "    model.step()\n",
    "    "
   ]
  },
  {
   "cell_type": "code",
   "execution_count": null,
   "metadata": {},
   "outputs": [],
   "source": [
    "import seaborn as sns\n",
    "\n"
   ]
  },
  {
   "cell_type": "code",
   "execution_count": null,
   "metadata": {},
   "outputs": [],
   "source": [
    "df = model.datacollector.get_agent_vars_dataframe().reset_index()\n"
   ]
  },
  {
   "cell_type": "code",
   "execution_count": null,
   "metadata": {},
   "outputs": [],
   "source": [
    "#sns.lineplot(data=df, y='Revenue', x='Step', estimator='sum')\n",
    "sns.lineplot(data=df, y='budget', x='Step', estimator='sum')\n",
    "sns.lineplot(data=df, y='Initial_budget', x='Step', estimator='sum')\n",
    "sns.lineplot(data=df, y='Revenue', x='Step', estimator='sum')\n"
   ]
  },
  {
   "cell_type": "code",
   "execution_count": null,
   "metadata": {},
   "outputs": [],
   "source": [
    "sns.lineplot(data=df, y='Price', x='Step')"
   ]
  },
  {
   "cell_type": "code",
   "execution_count": null,
   "metadata": {},
   "outputs": [],
   "source": [
    "sns.lineplot(data=df, y='Quantity_sold', x='Step', estimator='sum')\n"
   ]
  },
  {
   "cell_type": "code",
   "execution_count": null,
   "metadata": {},
   "outputs": [],
   "source": [
    "sns.lineplot(data=df, y='Revenue', x='Step')\n"
   ]
  },
  {
   "cell_type": "code",
   "execution_count": null,
   "metadata": {},
   "outputs": [],
   "source": [
    "sns.lineplot(data=df.loc[df['AgentID'] == 1020],\n",
    "             y='Revenue', x='Step', hue='AgentID')\n"
   ]
  },
  {
   "cell_type": "code",
   "execution_count": null,
   "metadata": {},
   "outputs": [],
   "source": [
    "df.loc[(df['Step'] == 0) & (df['Type'] == 'Household')].sort_values('budget')\n"
   ]
  },
  {
   "cell_type": "code",
   "execution_count": null,
   "metadata": {},
   "outputs": [],
   "source": [
    "df.loc[(df['Step'] == 0) & (df['Type'] == 'Firm')].sort_values('Quality')\n"
   ]
  },
  {
   "cell_type": "code",
   "execution_count": null,
   "metadata": {},
   "outputs": [],
   "source": [
    "sns.barplot(data=df.loc[(df['Step'] == 0) & (\n",
    "    df['Type'] == 'Firm')], y='Quality', x='AgentID')\n"
   ]
  },
  {
   "cell_type": "code",
   "execution_count": null,
   "metadata": {},
   "outputs": [],
   "source": [
    "df.loc[df['AgentID'] == 1009]\n"
   ]
  },
  {
   "cell_type": "code",
   "execution_count": null,
   "metadata": {},
   "outputs": [],
   "source": [
    "\n",
    "# for each step plot use seaborn to do a 1x2 plot with the distribution of the \"Price\" and \"Revenue\" of the firms\n",
    "for i in range(steps):\n",
    "    if i % 10 == 0:\n",
    "        df1 = df[df[\"Step\"] == i]\n",
    "        df1 = df1[df1[\"Type\"] == \"Firm\"]\n",
    "        fig, ax = plt.subplots(1, 2, figsize=(12, 5))\n",
    "\n",
    "        sns.histplot(df1[\"Price\"], ax=ax[0])\n",
    "        sns.histplot(df1[\"Revenue\"], ax=ax[1])\n",
    "        # set the title of the plot to the step\n",
    "        fig.suptitle(\"Step \" + str(i))\n",
    "        plt.show()\n"
   ]
  },
  {
   "cell_type": "code",
   "execution_count": 54,
   "metadata": {},
   "outputs": [
    {
     "ename": "ValueError",
     "evalue": "Can only compare identically-labeled Series objects",
     "output_type": "error",
     "traceback": [
      "\u001b[0;31m---------------------------------------------------------------------------\u001b[0m",
      "\u001b[0;31mValueError\u001b[0m                                Traceback (most recent call last)",
      "\u001b[1;32m/Users/ataberna/Documents/WWCS_2023/WWCS_2023_markets/model_basic.ipynb Cell 16\u001b[0m in \u001b[0;36m<cell line: 4>\u001b[0;34m()\u001b[0m\n\u001b[1;32m      <a href='vscode-notebook-cell:/Users/ataberna/Documents/WWCS_2023/WWCS_2023_markets/model_basic.ipynb#X44sZmlsZQ%3D%3D?line=1'>2</a>\u001b[0m df\u001b[39m.\u001b[39mloc[(df[\u001b[39m'\u001b[39m\u001b[39mType\u001b[39m\u001b[39m'\u001b[39m] \u001b[39m==\u001b[39m \u001b[39m\"\u001b[39m\u001b[39mFirm\u001b[39m\u001b[39m\"\u001b[39m) \u001b[39m&\u001b[39m (df[\u001b[39m'\u001b[39m\u001b[39mStep\u001b[39m\u001b[39m'\u001b[39m] \u001b[39m==\u001b[39m \u001b[39m99\u001b[39m)][\u001b[39m'\u001b[39m\u001b[39mRevenue\u001b[39m\u001b[39m'\u001b[39m]\u001b[39m.\u001b[39msum()\n\u001b[1;32m      <a href='vscode-notebook-cell:/Users/ataberna/Documents/WWCS_2023/WWCS_2023_markets/model_basic.ipynb#X44sZmlsZQ%3D%3D?line=2'>3</a>\u001b[0m hhi \u001b[39m=\u001b[39m pd\u001b[39m.\u001b[39mDataFrame(data\u001b[39m=\u001b[39m{\u001b[39m'\u001b[39m\u001b[39mstep\u001b[39m\u001b[39m'\u001b[39m: \u001b[39mrange\u001b[39m(\u001b[39m0\u001b[39m,\u001b[39m100\u001b[39m)})\n\u001b[0;32m----> <a href='vscode-notebook-cell:/Users/ataberna/Documents/WWCS_2023/WWCS_2023_markets/model_basic.ipynb#X44sZmlsZQ%3D%3D?line=3'>4</a>\u001b[0m hhi \u001b[39m=\u001b[39m hhi\u001b[39m.\u001b[39;49massign(volume\u001b[39m=\u001b[39;49m\u001b[39mlambda\u001b[39;49;00m x: df\u001b[39m.\u001b[39;49mloc[(df[\u001b[39m'\u001b[39;49m\u001b[39mType\u001b[39;49m\u001b[39m'\u001b[39;49m] \u001b[39m==\u001b[39;49m \u001b[39m\"\u001b[39;49m\u001b[39mFirm\u001b[39;49m\u001b[39m\"\u001b[39;49m) \u001b[39m&\u001b[39;49m (df[\u001b[39m'\u001b[39;49m\u001b[39mStep\u001b[39;49m\u001b[39m'\u001b[39;49m] \u001b[39m==\u001b[39;49m x\u001b[39m.\u001b[39;49mstep)][\u001b[39m'\u001b[39;49m\u001b[39mRevenue\u001b[39;49m\u001b[39m'\u001b[39;49m]\u001b[39m.\u001b[39;49msum())\n\u001b[1;32m      <a href='vscode-notebook-cell:/Users/ataberna/Documents/WWCS_2023/WWCS_2023_markets/model_basic.ipynb#X44sZmlsZQ%3D%3D?line=4'>5</a>\u001b[0m hhi\n",
      "File \u001b[0;32m~/opt/anaconda3/envs/mesa_lab/lib/python3.10/site-packages/pandas/core/frame.py:4515\u001b[0m, in \u001b[0;36mDataFrame.assign\u001b[0;34m(self, **kwargs)\u001b[0m\n\u001b[1;32m   4512\u001b[0m data \u001b[39m=\u001b[39m \u001b[39mself\u001b[39m\u001b[39m.\u001b[39mcopy()\n\u001b[1;32m   4514\u001b[0m \u001b[39mfor\u001b[39;00m k, v \u001b[39min\u001b[39;00m kwargs\u001b[39m.\u001b[39mitems():\n\u001b[0;32m-> 4515\u001b[0m     data[k] \u001b[39m=\u001b[39m com\u001b[39m.\u001b[39;49mapply_if_callable(v, data)\n\u001b[1;32m   4516\u001b[0m \u001b[39mreturn\u001b[39;00m data\n",
      "File \u001b[0;32m~/opt/anaconda3/envs/mesa_lab/lib/python3.10/site-packages/pandas/core/common.py:358\u001b[0m, in \u001b[0;36mapply_if_callable\u001b[0;34m(maybe_callable, obj, **kwargs)\u001b[0m\n\u001b[1;32m    347\u001b[0m \u001b[39m\"\"\"\u001b[39;00m\n\u001b[1;32m    348\u001b[0m \u001b[39mEvaluate possibly callable input using obj and kwargs if it is callable,\u001b[39;00m\n\u001b[1;32m    349\u001b[0m \u001b[39motherwise return as it is.\u001b[39;00m\n\u001b[0;32m   (...)\u001b[0m\n\u001b[1;32m    355\u001b[0m \u001b[39m**kwargs\u001b[39;00m\n\u001b[1;32m    356\u001b[0m \u001b[39m\"\"\"\u001b[39;00m\n\u001b[1;32m    357\u001b[0m \u001b[39mif\u001b[39;00m callable(maybe_callable):\n\u001b[0;32m--> 358\u001b[0m     \u001b[39mreturn\u001b[39;00m maybe_callable(obj, \u001b[39m*\u001b[39;49m\u001b[39m*\u001b[39;49mkwargs)\n\u001b[1;32m    360\u001b[0m \u001b[39mreturn\u001b[39;00m maybe_callable\n",
      "\u001b[1;32m/Users/ataberna/Documents/WWCS_2023/WWCS_2023_markets/model_basic.ipynb Cell 16\u001b[0m in \u001b[0;36m<lambda>\u001b[0;34m(x)\u001b[0m\n\u001b[1;32m      <a href='vscode-notebook-cell:/Users/ataberna/Documents/WWCS_2023/WWCS_2023_markets/model_basic.ipynb#X44sZmlsZQ%3D%3D?line=1'>2</a>\u001b[0m df\u001b[39m.\u001b[39mloc[(df[\u001b[39m'\u001b[39m\u001b[39mType\u001b[39m\u001b[39m'\u001b[39m] \u001b[39m==\u001b[39m \u001b[39m\"\u001b[39m\u001b[39mFirm\u001b[39m\u001b[39m\"\u001b[39m) \u001b[39m&\u001b[39m (df[\u001b[39m'\u001b[39m\u001b[39mStep\u001b[39m\u001b[39m'\u001b[39m] \u001b[39m==\u001b[39m \u001b[39m99\u001b[39m)][\u001b[39m'\u001b[39m\u001b[39mRevenue\u001b[39m\u001b[39m'\u001b[39m]\u001b[39m.\u001b[39msum()\n\u001b[1;32m      <a href='vscode-notebook-cell:/Users/ataberna/Documents/WWCS_2023/WWCS_2023_markets/model_basic.ipynb#X44sZmlsZQ%3D%3D?line=2'>3</a>\u001b[0m hhi \u001b[39m=\u001b[39m pd\u001b[39m.\u001b[39mDataFrame(data\u001b[39m=\u001b[39m{\u001b[39m'\u001b[39m\u001b[39mstep\u001b[39m\u001b[39m'\u001b[39m: \u001b[39mrange\u001b[39m(\u001b[39m0\u001b[39m,\u001b[39m100\u001b[39m)})\n\u001b[0;32m----> <a href='vscode-notebook-cell:/Users/ataberna/Documents/WWCS_2023/WWCS_2023_markets/model_basic.ipynb#X44sZmlsZQ%3D%3D?line=3'>4</a>\u001b[0m hhi \u001b[39m=\u001b[39m hhi\u001b[39m.\u001b[39massign(volume\u001b[39m=\u001b[39m\u001b[39mlambda\u001b[39;00m x: df\u001b[39m.\u001b[39mloc[(df[\u001b[39m'\u001b[39m\u001b[39mType\u001b[39m\u001b[39m'\u001b[39m] \u001b[39m==\u001b[39m \u001b[39m\"\u001b[39m\u001b[39mFirm\u001b[39m\u001b[39m\"\u001b[39m) \u001b[39m&\u001b[39m (df[\u001b[39m'\u001b[39;49m\u001b[39mStep\u001b[39;49m\u001b[39m'\u001b[39;49m] \u001b[39m==\u001b[39;49m x\u001b[39m.\u001b[39;49mstep)][\u001b[39m'\u001b[39m\u001b[39mRevenue\u001b[39m\u001b[39m'\u001b[39m]\u001b[39m.\u001b[39msum())\n\u001b[1;32m      <a href='vscode-notebook-cell:/Users/ataberna/Documents/WWCS_2023/WWCS_2023_markets/model_basic.ipynb#X44sZmlsZQ%3D%3D?line=4'>5</a>\u001b[0m hhi\n",
      "File \u001b[0;32m~/opt/anaconda3/envs/mesa_lab/lib/python3.10/site-packages/pandas/core/ops/common.py:70\u001b[0m, in \u001b[0;36m_unpack_zerodim_and_defer.<locals>.new_method\u001b[0;34m(self, other)\u001b[0m\n\u001b[1;32m     66\u001b[0m             \u001b[39mreturn\u001b[39;00m \u001b[39mNotImplemented\u001b[39m\n\u001b[1;32m     68\u001b[0m other \u001b[39m=\u001b[39m item_from_zerodim(other)\n\u001b[0;32m---> 70\u001b[0m \u001b[39mreturn\u001b[39;00m method(\u001b[39mself\u001b[39;49m, other)\n",
      "File \u001b[0;32m~/opt/anaconda3/envs/mesa_lab/lib/python3.10/site-packages/pandas/core/arraylike.py:40\u001b[0m, in \u001b[0;36mOpsMixin.__eq__\u001b[0;34m(self, other)\u001b[0m\n\u001b[1;32m     38\u001b[0m \u001b[39m@unpack_zerodim_and_defer\u001b[39m(\u001b[39m\"\u001b[39m\u001b[39m__eq__\u001b[39m\u001b[39m\"\u001b[39m)\n\u001b[1;32m     39\u001b[0m \u001b[39mdef\u001b[39;00m \u001b[39m__eq__\u001b[39m(\u001b[39mself\u001b[39m, other):\n\u001b[0;32m---> 40\u001b[0m     \u001b[39mreturn\u001b[39;00m \u001b[39mself\u001b[39;49m\u001b[39m.\u001b[39;49m_cmp_method(other, operator\u001b[39m.\u001b[39;49meq)\n",
      "File \u001b[0;32m~/opt/anaconda3/envs/mesa_lab/lib/python3.10/site-packages/pandas/core/series.py:5617\u001b[0m, in \u001b[0;36mSeries._cmp_method\u001b[0;34m(self, other, op)\u001b[0m\n\u001b[1;32m   5614\u001b[0m res_name \u001b[39m=\u001b[39m ops\u001b[39m.\u001b[39mget_op_result_name(\u001b[39mself\u001b[39m, other)\n\u001b[1;32m   5616\u001b[0m \u001b[39mif\u001b[39;00m \u001b[39misinstance\u001b[39m(other, Series) \u001b[39mand\u001b[39;00m \u001b[39mnot\u001b[39;00m \u001b[39mself\u001b[39m\u001b[39m.\u001b[39m_indexed_same(other):\n\u001b[0;32m-> 5617\u001b[0m     \u001b[39mraise\u001b[39;00m \u001b[39mValueError\u001b[39;00m(\u001b[39m\"\u001b[39m\u001b[39mCan only compare identically-labeled Series objects\u001b[39m\u001b[39m\"\u001b[39m)\n\u001b[1;32m   5619\u001b[0m lvalues \u001b[39m=\u001b[39m \u001b[39mself\u001b[39m\u001b[39m.\u001b[39m_values\n\u001b[1;32m   5620\u001b[0m rvalues \u001b[39m=\u001b[39m extract_array(other, extract_numpy\u001b[39m=\u001b[39m\u001b[39mTrue\u001b[39;00m, extract_range\u001b[39m=\u001b[39m\u001b[39mTrue\u001b[39;00m)\n",
      "\u001b[0;31mValueError\u001b[0m: Can only compare identically-labeled Series objects"
     ]
    }
   ],
   "source": [
    "firms = df.loc[df['Type'] == \"Firm\"]\n",
    "df.loc[(df['Type'] == \"Firm\") & (df['Step'] == 99)]['Revenue'].sum()\n",
    "hhi = pd.DataFrame(data={'step': range(0,100)})\n",
    "hhi = hhi.assign(volume=lambda x: df.loc[(df['Type'] == \"Firm\") & (df['Step'] == x.step)]['Revenue'].sum())\n",
    "hhi "
   ]
  },
  {
   "cell_type": "code",
   "execution_count": null,
   "metadata": {},
   "outputs": [],
   "source": []
  },
  {
   "cell_type": "code",
   "execution_count": null,
   "metadata": {},
   "outputs": [],
   "source": []
  }
 ],
 "metadata": {
  "kernelspec": {
   "display_name": "Python 3 (ipykernel)",
   "language": "python",
   "name": "python3"
  },
  "language_info": {
   "codemirror_mode": {
    "name": "ipython",
    "version": 3
   },
   "file_extension": ".py",
   "mimetype": "text/x-python",
   "name": "python",
   "nbconvert_exporter": "python",
   "pygments_lexer": "ipython3",
   "version": "3.9.6"
  },
  "vscode": {
   "interpreter": {
    "hash": "eb588da5fe55687aa46afd9c5ace01fe24548d9e0eebd8efebcb489d84c4bf6e"
   }
  }
 },
 "nbformat": 4,
 "nbformat_minor": 2
}
