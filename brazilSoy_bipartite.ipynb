{
 "cells": [
  {
   "cell_type": "code",
   "execution_count": 1,
   "id": "fe06d34b",
   "metadata": {},
   "outputs": [],
   "source": [
    "import networkx as nx\n",
    "from networkx.algorithms import bipartite\n",
    "import pandas as pd\n",
    "from matplotlib.pyplot import figure\n",
    "#import plotly.graph_objects as go"
   ]
  },
  {
   "cell_type": "code",
   "execution_count": 2,
   "id": "a5be60f9",
   "metadata": {},
   "outputs": [],
   "source": [
    "df = pd.read_csv(\"/Users/dianagonzales/Downloads/BRAZIl_SOY_2.6.0_tc/BRAZIL_SOY_2.6.0_tc.csv\", sep=\",\")\n",
    "#df = df[df[\"YEAR\"] == 2020]\n",
    "df = df[['YEAR','EXPORTER GROUP', 'COUNTRY OF FIRST IMPORT', 'TOTAL']]\n",
    "df = df.groupby(['EXPORTER GROUP', 'COUNTRY OF FIRST IMPORT', 'YEAR']).sum('TOTAL')\n",
    "df.reset_index(inplace = True)"
   ]
  },
  {
   "cell_type": "code",
   "execution_count": 3,
   "id": "87c6bd46",
   "metadata": {},
   "outputs": [],
   "source": [
    "# full set\n",
    "exp_all = pd.DataFrame(df['EXPORTER GROUP'].unique())\n",
    "imp_all = pd.DataFrame(df['COUNTRY OF FIRST IMPORT'].unique())\n",
    "\n",
    "df_all = pd.merge(exp_all, imp_all, how=\"cross\")\n",
    "\n",
    "df_all.rename(columns = {\"0_x\":\"EXPORTER GROUP\", \"0_y\":\"COUNTRY OF FIRST IMPORT\"}, inplace=True)"
   ]
  },
  {
   "cell_type": "code",
   "execution_count": 16,
   "id": "73f0426e",
   "metadata": {},
   "outputs": [
    {
     "data": {
      "text/plain": [
       "0.07842753100975461"
      ]
     },
     "execution_count": 16,
     "metadata": {},
     "output_type": "execute_result"
    }
   ],
   "source": [
    "d2020 = df_all.merge(df[df[\"YEAR\"] == 2004], on=['EXPORTER GROUP','COUNTRY OF FIRST IMPORT'], how='left')\n",
    "d2020['TOTAL'].fillna(0, inplace=True)\n",
    "d2020['net'] = sum(d2020['TOTAL'])\n",
    "d2020['share'] = (d2020['TOTAL'] / d2020['net']) ** 2\n",
    "d2020.sort_values('TOTAL', ascending=False)\n",
    "\n",
    "sum(d2020['share'])"
   ]
  },
  {
   "cell_type": "code",
   "execution_count": 14,
   "id": "f6ef4715",
   "metadata": {},
   "outputs": [],
   "source": [
    "trade_adj = {}\n",
    "trade_list = {}\n",
    "\n",
    "keys = list(range(2004,2021))\n",
    "\n",
    "for i in range(0,17):\n",
    "    hola = df_all.merge(df[df[\"YEAR\"] == keys[i]], on=['EXPORTER GROUP','COUNTRY OF FIRST IMPORT'], how='left')\n",
    "    hola.fillna(0, inplace=True)\n",
    "    trade_list[keys[i]] = hola\n",
    "    hola = hola.pivot_table(columns='EXPORTER GROUP', index='COUNTRY OF FIRST IMPORT').reset_index()\n",
    "    trade_adj[keys[i]] = hola"
   ]
  },
  {
   "cell_type": "code",
   "execution_count": 15,
   "id": "f48492a2",
   "metadata": {},
   "outputs": [
    {
     "data": {
      "text/html": [
       "<div>\n",
       "<style scoped>\n",
       "    .dataframe tbody tr th:only-of-type {\n",
       "        vertical-align: middle;\n",
       "    }\n",
       "\n",
       "    .dataframe tbody tr th {\n",
       "        vertical-align: top;\n",
       "    }\n",
       "\n",
       "    .dataframe thead th {\n",
       "        text-align: right;\n",
       "    }\n",
       "</style>\n",
       "<table border=\"1\" class=\"dataframe\">\n",
       "  <thead>\n",
       "    <tr style=\"text-align: right;\">\n",
       "      <th></th>\n",
       "      <th>YEAR</th>\n",
       "      <th>HHI</th>\n",
       "    </tr>\n",
       "  </thead>\n",
       "  <tbody>\n",
       "    <tr>\n",
       "      <th>0</th>\n",
       "      <td>2004</td>\n",
       "      <td>0.078428</td>\n",
       "    </tr>\n",
       "    <tr>\n",
       "      <th>1</th>\n",
       "      <td>2005</td>\n",
       "      <td>0.061438</td>\n",
       "    </tr>\n",
       "    <tr>\n",
       "      <th>2</th>\n",
       "      <td>2006</td>\n",
       "      <td>0.071968</td>\n",
       "    </tr>\n",
       "    <tr>\n",
       "      <th>3</th>\n",
       "      <td>2007</td>\n",
       "      <td>0.119649</td>\n",
       "    </tr>\n",
       "    <tr>\n",
       "      <th>4</th>\n",
       "      <td>2008</td>\n",
       "      <td>0.130007</td>\n",
       "    </tr>\n",
       "    <tr>\n",
       "      <th>5</th>\n",
       "      <td>2009</td>\n",
       "      <td>0.080626</td>\n",
       "    </tr>\n",
       "    <tr>\n",
       "      <th>6</th>\n",
       "      <td>2010</td>\n",
       "      <td>0.136003</td>\n",
       "    </tr>\n",
       "    <tr>\n",
       "      <th>7</th>\n",
       "      <td>2011</td>\n",
       "      <td>0.128618</td>\n",
       "    </tr>\n",
       "    <tr>\n",
       "      <th>8</th>\n",
       "      <td>2012</td>\n",
       "      <td>0.080298</td>\n",
       "    </tr>\n",
       "    <tr>\n",
       "      <th>9</th>\n",
       "      <td>2013</td>\n",
       "      <td>0.101407</td>\n",
       "    </tr>\n",
       "    <tr>\n",
       "      <th>10</th>\n",
       "      <td>2014</td>\n",
       "      <td>0.102852</td>\n",
       "    </tr>\n",
       "    <tr>\n",
       "      <th>11</th>\n",
       "      <td>2015</td>\n",
       "      <td>0.087245</td>\n",
       "    </tr>\n",
       "    <tr>\n",
       "      <th>12</th>\n",
       "      <td>2016</td>\n",
       "      <td>0.103129</td>\n",
       "    </tr>\n",
       "    <tr>\n",
       "      <th>13</th>\n",
       "      <td>2017</td>\n",
       "      <td>0.090013</td>\n",
       "    </tr>\n",
       "    <tr>\n",
       "      <th>14</th>\n",
       "      <td>2018</td>\n",
       "      <td>0.050728</td>\n",
       "    </tr>\n",
       "    <tr>\n",
       "      <th>15</th>\n",
       "      <td>2019</td>\n",
       "      <td>0.081476</td>\n",
       "    </tr>\n",
       "    <tr>\n",
       "      <th>16</th>\n",
       "      <td>2020</td>\n",
       "      <td>0.052482</td>\n",
       "    </tr>\n",
       "  </tbody>\n",
       "</table>\n",
       "</div>"
      ],
      "text/plain": [
       "    YEAR       HHI\n",
       "0   2004  0.078428\n",
       "1   2005  0.061438\n",
       "2   2006  0.071968\n",
       "3   2007  0.119649\n",
       "4   2008  0.130007\n",
       "5   2009  0.080626\n",
       "6   2010  0.136003\n",
       "7   2011  0.128618\n",
       "8   2012  0.080298\n",
       "9   2013  0.101407\n",
       "10  2014  0.102852\n",
       "11  2015  0.087245\n",
       "12  2016  0.103129\n",
       "13  2017  0.090013\n",
       "14  2018  0.050728\n",
       "15  2019  0.081476\n",
       "16  2020  0.052482"
      ]
     },
     "execution_count": 15,
     "metadata": {},
     "output_type": "execute_result"
    }
   ],
   "source": [
    "hhi = []\n",
    "\n",
    "for i in range(0,17):\n",
    "    d = trade_list[keys[i]]\n",
    "    d['share'] = (d['TOTAL'] / (sum(d['TOTAL']))) **2\n",
    "    hhi.append(sum(d['share']))\n",
    "    \n",
    "HHI = pd.DataFrame(zip(keys,hhi), columns=['YEAR', 'HHI'])\n",
    "HHI "
   ]
  },
  {
   "cell_type": "code",
   "execution_count": 17,
   "id": "4b97643d",
   "metadata": {},
   "outputs": [
    {
     "data": {
      "text/plain": [
       "0.052481915708437334"
      ]
     },
     "execution_count": 17,
     "metadata": {},
     "output_type": "execute_result"
    }
   ],
   "source": [
    "d2020 = trade_list[2020]\n",
    "d2020['share'] = (d2020['TOTAL'] / (sum(d2020['TOTAL']))) **2\n",
    "sum(d2020['share'])"
   ]
  },
  {
   "cell_type": "code",
   "execution_count": null,
   "id": "15be454f",
   "metadata": {},
   "outputs": [],
   "source": []
  },
  {
   "cell_type": "code",
   "execution_count": null,
   "id": "46690dbb",
   "metadata": {},
   "outputs": [],
   "source": [
    "alan = []\n",
    "for i in range(0, len(df)):\n",
    "    alan.append((df.loc[i][\"EXPORTER GROUP\"], df.loc[i][\"COUNTRY OF FIRST IMPORT\"], {'exports': df.loc[i][\"TOTAL\"]}))    "
   ]
  },
  {
   "cell_type": "code",
   "execution_count": null,
   "id": "0a55d0b1",
   "metadata": {},
   "outputs": [],
   "source": [
    "B = nx.Graph()\n",
    "\n",
    "B.add_nodes_from(df['EXPORTER GROUP'].unique().tolist(), bipartite=\"firm\")\n",
    "B.add_nodes_from(df['COUNTRY OF FIRST IMPORT'].unique().tolist(), bipartite=\"country\")\n",
    "B.add_edges_from(alan)"
   ]
  },
  {
   "cell_type": "code",
   "execution_count": null,
   "id": "059d53fc",
   "metadata": {},
   "outputs": [],
   "source": [
    "B.edges(data=True)"
   ]
  },
  {
   "cell_type": "code",
   "execution_count": null,
   "id": "df2e79e5",
   "metadata": {},
   "outputs": [],
   "source": [
    "firm_nodes = {n for n, d in B.nodes(data=True) if d[\"bipartite\"] == \"firm\"}\n",
    "country_nodes = set(B) - firm_nodes"
   ]
  },
  {
   "cell_type": "code",
   "execution_count": null,
   "id": "338cd642",
   "metadata": {},
   "outputs": [],
   "source": [
    "country_nodes"
   ]
  },
  {
   "cell_type": "code",
   "execution_count": null,
   "id": "a790fdc2",
   "metadata": {},
   "outputs": [],
   "source": [
    "a = nx.generate_adjlist(B)\n"
   ]
  },
  {
   "cell_type": "code",
   "execution_count": null,
   "id": "1ec2a0df",
   "metadata": {},
   "outputs": [],
   "source": [
    "nx.degree_centrality(B)"
   ]
  },
  {
   "cell_type": "code",
   "execution_count": null,
   "id": "dc6e8127",
   "metadata": {},
   "outputs": [],
   "source": [
    "#nodos = {}\n",
    "#for x in B.nodes:\n",
    "#    nodos[x] = len(B[x])\n",
    "#s = pd.Series(nodos, name='connections')\n",
    "#df2 = s.to_frame().sort_values('connections', ascending=False)"
   ]
  },
  {
   "cell_type": "code",
   "execution_count": null,
   "id": "fe5496c6",
   "metadata": {},
   "outputs": [],
   "source": [
    "#one = df2[df2['connections'] == 1].index.to_list()"
   ]
  },
  {
   "cell_type": "code",
   "execution_count": null,
   "id": "0758ff04",
   "metadata": {},
   "outputs": [],
   "source": [
    "#df3 = df[~df['EXPORTER GROUP'].isin(one)]"
   ]
  },
  {
   "cell_type": "code",
   "execution_count": null,
   "id": "656161e3",
   "metadata": {},
   "outputs": [],
   "source": [
    "#G = nx.from_pandas_edgelist(df3, 'EXPORTER GROUP', 'COUNTRY OF FIRST IMPORT', ['TOTAL'])\n",
    "figure(figsize=(10, 8))\n",
    "nx.draw_shell(B, with_labels=False)"
   ]
  },
  {
   "cell_type": "code",
   "execution_count": null,
   "id": "907f4bc5",
   "metadata": {},
   "outputs": [],
   "source": [
    "if self.time > 0:\n",
    "            prev = nx.adjacency_matrix(self.graphs[-1]).A\n",
    "            curr = nx.adjacency_matrix(self.G).A\n",
    "            change = sum(sum(abs(curr - prev)))\n",
    "            maximum = sum(sum(prev)) + sum(sum(curr))\n",
    "            self.diff = change/maximum if maximum > 0 else 0\n",
    "        self.graphs.append(self.G.copy())\n",
    "        \n"
   ]
  },
  {
   "cell_type": "code",
   "execution_count": null,
   "id": "af3c48f8",
   "metadata": {},
   "outputs": [],
   "source": [
    "        list_firms = [agent for agent in self.schedule.agents if type(agent) is Firm]\n",
    "        #list_hh = [agent for agent in self.schedule.agents if type(agent) is Household]\n",
    "        # iterate thorugh a dictionary of agents in aa fast way\n",
    "        tot_revenues = [firm.revenue for firm in list_firms]\n",
    "        # normalize the revenue to have a value between 0 and 1\n",
    "        if sum( tot_revenues) > 0:\n",
    "            revenue = [x / sum( tot_revenues) for x in  tot_revenues]\n",
    "            # square the revenue\n",
    "            revenue = [x ** 2 for x in revenue]\n",
    "            # sum the revenue\n",
    "            self.HHI = sum(revenue)\n",
    "        else:\n",
    "            self.HHI = 0"
   ]
  },
  {
   "cell_type": "code",
   "execution_count": null,
   "id": "689aadfe",
   "metadata": {},
   "outputs": [],
   "source": [
    "exp_all = pd.DataFrame(df['EXPORTER GROUP'].unique())\n",
    "imp_all = pd.DataFrame(df['COUNTRY OF FIRST IMPORT'].unique())\n",
    "\n",
    "df_all = pd.merge(exp_all, imp_all, how=\"cross\")\n",
    "\n",
    "trade_year = {}\n",
    "\n",
    "for i in range(2005,2020):\n",
    "    nombre = \"year_\"+str(i)\n",
    "    trade_year.append(nombre)   \n",
    "    \n",
    "trade_year"
   ]
  },
  {
   "cell_type": "code",
   "execution_count": null,
   "id": "fb51db50",
   "metadata": {},
   "outputs": [],
   "source": []
  },
  {
   "cell_type": "code",
   "execution_count": null,
   "id": "71ff16ea",
   "metadata": {},
   "outputs": [],
   "source": []
  },
  {
   "cell_type": "code",
   "execution_count": null,
   "id": "a5f83f71",
   "metadata": {},
   "outputs": [],
   "source": []
  },
  {
   "cell_type": "code",
   "execution_count": null,
   "id": "f6eee847",
   "metadata": {},
   "outputs": [],
   "source": [
    "\n",
    "\n",
    "#df = pd.DataFrame(columns=exp_all, index=imp_all)\n"
   ]
  },
  {
   "cell_type": "code",
   "execution_count": null,
   "id": "67a1d525",
   "metadata": {},
   "outputs": [],
   "source": [
    "len(df['EXPORTER GROUP'].unique()) * len(df['COUNTRY OF FIRST IMPORT'].unique())"
   ]
  },
  {
   "cell_type": "code",
   "execution_count": null,
   "id": "f3add85b",
   "metadata": {},
   "outputs": [],
   "source": [
    "df_all.merge()"
   ]
  }
 ],
 "metadata": {
  "kernelspec": {
   "display_name": "Python 3",
   "language": "python",
   "name": "python3"
  },
  "language_info": {
   "codemirror_mode": {
    "name": "ipython",
    "version": 3
   },
   "file_extension": ".py",
   "mimetype": "text/x-python",
   "name": "python",
   "nbconvert_exporter": "python",
   "pygments_lexer": "ipython3",
   "version": "3.8.8"
  }
 },
 "nbformat": 4,
 "nbformat_minor": 5
}
