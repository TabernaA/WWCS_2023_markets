{
 "cells": [
  {
   "cell_type": "code",
   "execution_count": 1,
   "metadata": {},
   "outputs": [],
   "source": [
    "seed_value = 99998978\n",
    "import random\n",
    "random.seed(seed_value)\n",
    "import numpy as np\n",
    "np.random.seed(seed=seed_value)\n",
    "from model import Market\n",
    "from mesa.batchrunner import batch_run\n",
    "import pandas as pd\n"
   ]
  },
  {
   "cell_type": "code",
   "execution_count": 2,
   "metadata": {},
   "outputs": [],
   "source": [
    "\n",
    "\n",
    "\n",
    "n_runs = 10\n",
    "seed_list = [random.randint(1, seed_value )  for i in range(n_runs) ]\n",
    "\n",
    "params = {#\"F\":  list(np.arange(10, 100, 10)),\n",
    "          #\"H\": list(np.arange(200, 800, 200)),\n",
    "          \"time_collusion\" : list(np.arange(500, 1001, 500)),\n",
    "          \"seed\": seed_list\n",
    "          }"
   ]
  },
  {
   "cell_type": "code",
   "execution_count": 3,
   "metadata": {},
   "outputs": [
    {
     "data": {
      "text/plain": [
       "{'time_collusion': [500, 1000],\n",
       " 'seed': [50087490,\n",
       "  22130640,\n",
       "  33840724,\n",
       "  78162780,\n",
       "  40825690,\n",
       "  9887993,\n",
       "  1369566,\n",
       "  90982561,\n",
       "  68039187,\n",
       "  42822796]}"
      ]
     },
     "execution_count": 3,
     "metadata": {},
     "output_type": "execute_result"
    }
   ],
   "source": [
    "params"
   ]
  },
  {
   "cell_type": "code",
   "execution_count": 4,
   "metadata": {},
   "outputs": [
    {
     "name": "stderr",
     "output_type": "stream",
     "text": [
      "  0%|          | 0/20 [00:00<?, ?it/s]/Users/ataberna/Documents/WWCS_2023/WWCS_2023_markets/model.py:126: FutureWarning: adjacency_matrix will return a scipy.sparse array instead of a matrix in Networkx 3.0.\n",
      "  prev = nx.adjacency_matrix(graph_a).A\n",
      "/Users/ataberna/Documents/WWCS_2023/WWCS_2023_markets/model.py:127: FutureWarning: adjacency_matrix will return a scipy.sparse array instead of a matrix in Networkx 3.0.\n",
      "  curr = nx.adjacency_matrix(graph_b).A\n",
      "/Users/ataberna/Documents/WWCS_2023/WWCS_2023_markets/model.py:126: FutureWarning: adjacency_matrix will return a scipy.sparse array instead of a matrix in Networkx 3.0.\n",
      "  prev = nx.adjacency_matrix(graph_a).A\n",
      "/Users/ataberna/Documents/WWCS_2023/WWCS_2023_markets/model.py:126: FutureWarning: adjacency_matrix will return a scipy.sparse array instead of a matrix in Networkx 3.0.\n",
      "  prev = nx.adjacency_matrix(graph_a).A\n",
      "/Users/ataberna/Documents/WWCS_2023/WWCS_2023_markets/model.py:127: FutureWarning: adjacency_matrix will return a scipy.sparse array instead of a matrix in Networkx 3.0.\n",
      "  curr = nx.adjacency_matrix(graph_b).A\n",
      "/Users/ataberna/Documents/WWCS_2023/WWCS_2023_markets/model.py:127: FutureWarning: adjacency_matrix will return a scipy.sparse array instead of a matrix in Networkx 3.0.\n",
      "  curr = nx.adjacency_matrix(graph_b).A\n",
      "/Users/ataberna/Documents/WWCS_2023/WWCS_2023_markets/model.py:126: FutureWarning: adjacency_matrix will return a scipy.sparse array instead of a matrix in Networkx 3.0.\n",
      "  prev = nx.adjacency_matrix(graph_a).A\n",
      "/Users/ataberna/Documents/WWCS_2023/WWCS_2023_markets/model.py:127: FutureWarning: adjacency_matrix will return a scipy.sparse array instead of a matrix in Networkx 3.0.\n",
      "  curr = nx.adjacency_matrix(graph_b).A\n",
      "/Users/ataberna/Documents/WWCS_2023/WWCS_2023_markets/model.py:126: FutureWarning: adjacency_matrix will return a scipy.sparse array instead of a matrix in Networkx 3.0.\n",
      "  prev = nx.adjacency_matrix(graph_a).A\n",
      "/Users/ataberna/Documents/WWCS_2023/WWCS_2023_markets/model.py:126: FutureWarning: adjacency_matrix will return a scipy.sparse array instead of a matrix in Networkx 3.0.\n",
      "  prev = nx.adjacency_matrix(graph_a).A\n",
      "/Users/ataberna/Documents/WWCS_2023/WWCS_2023_markets/model.py:127: FutureWarning: adjacency_matrix will return a scipy.sparse array instead of a matrix in Networkx 3.0.\n",
      "  curr = nx.adjacency_matrix(graph_b).A\n",
      "/Users/ataberna/Documents/WWCS_2023/WWCS_2023_markets/model.py:127: FutureWarning: adjacency_matrix will return a scipy.sparse array instead of a matrix in Networkx 3.0.\n",
      "  curr = nx.adjacency_matrix(graph_b).A\n",
      "100%|██████████| 20/20 [03:20<00:00, 10.00s/it]\n"
     ]
    }
   ],
   "source": [
    "\n",
    "\n",
    "\n",
    "\n",
    "results = batch_run(\n",
    "    Market,\n",
    "    parameters=params,\n",
    "    iterations=1,\n",
    "    max_steps=1010,\n",
    "    number_processes= 6,\n",
    "    data_collection_period=1,\n",
    "    display_progress=True,\n",
    "\n",
    " )\n",
    "\n",
    "\n"
   ]
  },
  {
   "cell_type": "code",
   "execution_count": 5,
   "metadata": {},
   "outputs": [],
   "source": [
    "test_df = pd.DataFrame(results)"
   ]
  },
  {
   "cell_type": "code",
   "execution_count": 6,
   "metadata": {},
   "outputs": [],
   "source": [
    "test_df.to_csv(\"test_df_2.csv\")"
   ]
  },
  {
   "cell_type": "code",
   "execution_count": null,
   "metadata": {},
   "outputs": [],
   "source": []
  },
  {
   "cell_type": "code",
   "execution_count": null,
   "metadata": {},
   "outputs": [],
   "source": []
  }
 ],
 "metadata": {
  "kernelspec": {
   "display_name": "mesa_lab",
   "language": "python",
   "name": "python3"
  },
  "language_info": {
   "codemirror_mode": {
    "name": "ipython",
    "version": 3
   },
   "file_extension": ".py",
   "mimetype": "text/x-python",
   "name": "python",
   "nbconvert_exporter": "python",
   "pygments_lexer": "ipython3",
   "version": "3.10.6"
  },
  "orig_nbformat": 4,
  "vscode": {
   "interpreter": {
    "hash": "eb588da5fe55687aa46afd9c5ace01fe24548d9e0eebd8efebcb489d84c4bf6e"
   }
  }
 },
 "nbformat": 4,
 "nbformat_minor": 2
}
