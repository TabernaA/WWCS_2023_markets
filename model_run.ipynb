{
 "cells": [
  {
   "cell_type": "code",
   "execution_count": 1,
   "metadata": {},
   "outputs": [],
   "source": [
    "import numpy as np\n",
    "import pandas as pd\n",
    "import matplotlib.pyplot as plt\n",
    "import seaborn as sns\n",
    "from model import Market\n",
    "\n",
    "import networkx as nx\n"
   ]
  },
  {
   "cell_type": "code",
   "execution_count": 2,
   "metadata": {},
   "outputs": [],
   "source": [
    "n_households = 2\n",
    "n_firms = 2\n",
    "firms_production = 2\n",
    "min_income = 1\n",
    "max_income = 1\n",
    "min_quality = 0\n",
    "max_quality = 1\n",
    "decrease_price = 0.7\n",
    "increase_price = 0.3\n",
    "price_change = 0\n",
    "\n",
    "model = Market(F =n_firms, H=n_households, firms_production=firms_production, min_income=min_income, max_income=max_income, \n",
    "                min_quality=min_quality, max_quality=max_quality, decrease_price=decrease_price, increase_price=increase_price, price_change=price_change)\n",
    "steps = 10\n",
    "for i in range(steps):\n",
    "    #print('step', i)\n",
    "    model.step()\n",
    "    "
   ]
  },
  {
   "cell_type": "code",
   "execution_count": 3,
   "metadata": {},
   "outputs": [
    {
     "data": {
      "text/html": [
       "<div>\n",
       "<style scoped>\n",
       "    .dataframe tbody tr th:only-of-type {\n",
       "        vertical-align: middle;\n",
       "    }\n",
       "\n",
       "    .dataframe tbody tr th {\n",
       "        vertical-align: top;\n",
       "    }\n",
       "\n",
       "    .dataframe thead th {\n",
       "        text-align: right;\n",
       "    }\n",
       "</style>\n",
       "<table border=\"1\" class=\"dataframe\">\n",
       "  <thead>\n",
       "    <tr style=\"text-align: right;\">\n",
       "      <th></th>\n",
       "      <th></th>\n",
       "      <th>Type</th>\n",
       "      <th>Quality</th>\n",
       "      <th>Revenue</th>\n",
       "      <th>Quantity_sold</th>\n",
       "      <th>Price</th>\n",
       "      <th>Initial_budget</th>\n",
       "      <th>budget</th>\n",
       "    </tr>\n",
       "    <tr>\n",
       "      <th>Step</th>\n",
       "      <th>AgentID</th>\n",
       "      <th></th>\n",
       "      <th></th>\n",
       "      <th></th>\n",
       "      <th></th>\n",
       "      <th></th>\n",
       "      <th></th>\n",
       "      <th></th>\n",
       "    </tr>\n",
       "  </thead>\n",
       "  <tbody>\n",
       "    <tr>\n",
       "      <th rowspan=\"4\" valign=\"top\">0</th>\n",
       "      <th>1</th>\n",
       "      <td>Household</td>\n",
       "      <td>NaN</td>\n",
       "      <td>NaN</td>\n",
       "      <td>NaN</td>\n",
       "      <td>NaN</td>\n",
       "      <td>1.0</td>\n",
       "      <td>1.0</td>\n",
       "    </tr>\n",
       "    <tr>\n",
       "      <th>2</th>\n",
       "      <td>Household</td>\n",
       "      <td>NaN</td>\n",
       "      <td>NaN</td>\n",
       "      <td>NaN</td>\n",
       "      <td>NaN</td>\n",
       "      <td>1.0</td>\n",
       "      <td>1.0</td>\n",
       "    </tr>\n",
       "    <tr>\n",
       "      <th>3</th>\n",
       "      <td>Firm</td>\n",
       "      <td>0.472121</td>\n",
       "      <td>0.0</td>\n",
       "      <td>0.0</td>\n",
       "      <td>1.0</td>\n",
       "      <td>NaN</td>\n",
       "      <td>NaN</td>\n",
       "    </tr>\n",
       "    <tr>\n",
       "      <th>4</th>\n",
       "      <td>Firm</td>\n",
       "      <td>0.143974</td>\n",
       "      <td>0.0</td>\n",
       "      <td>0.0</td>\n",
       "      <td>1.0</td>\n",
       "      <td>NaN</td>\n",
       "      <td>NaN</td>\n",
       "    </tr>\n",
       "    <tr>\n",
       "      <th rowspan=\"4\" valign=\"top\">1</th>\n",
       "      <th>1</th>\n",
       "      <td>Household</td>\n",
       "      <td>NaN</td>\n",
       "      <td>NaN</td>\n",
       "      <td>NaN</td>\n",
       "      <td>NaN</td>\n",
       "      <td>1.0</td>\n",
       "      <td>0.0</td>\n",
       "    </tr>\n",
       "    <tr>\n",
       "      <th>2</th>\n",
       "      <td>Household</td>\n",
       "      <td>NaN</td>\n",
       "      <td>NaN</td>\n",
       "      <td>NaN</td>\n",
       "      <td>NaN</td>\n",
       "      <td>1.0</td>\n",
       "      <td>0.0</td>\n",
       "    </tr>\n",
       "    <tr>\n",
       "      <th>3</th>\n",
       "      <td>Firm</td>\n",
       "      <td>0.472121</td>\n",
       "      <td>2.0</td>\n",
       "      <td>2.0</td>\n",
       "      <td>1.0</td>\n",
       "      <td>NaN</td>\n",
       "      <td>NaN</td>\n",
       "    </tr>\n",
       "    <tr>\n",
       "      <th>4</th>\n",
       "      <td>Firm</td>\n",
       "      <td>0.143974</td>\n",
       "      <td>0.0</td>\n",
       "      <td>0.0</td>\n",
       "      <td>1.0</td>\n",
       "      <td>NaN</td>\n",
       "      <td>NaN</td>\n",
       "    </tr>\n",
       "    <tr>\n",
       "      <th rowspan=\"4\" valign=\"top\">2</th>\n",
       "      <th>1</th>\n",
       "      <td>Household</td>\n",
       "      <td>NaN</td>\n",
       "      <td>NaN</td>\n",
       "      <td>NaN</td>\n",
       "      <td>NaN</td>\n",
       "      <td>1.0</td>\n",
       "      <td>0.0</td>\n",
       "    </tr>\n",
       "    <tr>\n",
       "      <th>2</th>\n",
       "      <td>Household</td>\n",
       "      <td>NaN</td>\n",
       "      <td>NaN</td>\n",
       "      <td>NaN</td>\n",
       "      <td>NaN</td>\n",
       "      <td>1.0</td>\n",
       "      <td>0.0</td>\n",
       "    </tr>\n",
       "    <tr>\n",
       "      <th>3</th>\n",
       "      <td>Firm</td>\n",
       "      <td>0.472121</td>\n",
       "      <td>2.0</td>\n",
       "      <td>2.0</td>\n",
       "      <td>1.0</td>\n",
       "      <td>NaN</td>\n",
       "      <td>NaN</td>\n",
       "    </tr>\n",
       "    <tr>\n",
       "      <th>4</th>\n",
       "      <td>Firm</td>\n",
       "      <td>0.143974</td>\n",
       "      <td>0.0</td>\n",
       "      <td>0.0</td>\n",
       "      <td>1.0</td>\n",
       "      <td>NaN</td>\n",
       "      <td>NaN</td>\n",
       "    </tr>\n",
       "    <tr>\n",
       "      <th rowspan=\"4\" valign=\"top\">3</th>\n",
       "      <th>1</th>\n",
       "      <td>Household</td>\n",
       "      <td>NaN</td>\n",
       "      <td>NaN</td>\n",
       "      <td>NaN</td>\n",
       "      <td>NaN</td>\n",
       "      <td>1.0</td>\n",
       "      <td>0.0</td>\n",
       "    </tr>\n",
       "    <tr>\n",
       "      <th>2</th>\n",
       "      <td>Household</td>\n",
       "      <td>NaN</td>\n",
       "      <td>NaN</td>\n",
       "      <td>NaN</td>\n",
       "      <td>NaN</td>\n",
       "      <td>1.0</td>\n",
       "      <td>0.0</td>\n",
       "    </tr>\n",
       "    <tr>\n",
       "      <th>3</th>\n",
       "      <td>Firm</td>\n",
       "      <td>0.472121</td>\n",
       "      <td>2.0</td>\n",
       "      <td>2.0</td>\n",
       "      <td>1.0</td>\n",
       "      <td>NaN</td>\n",
       "      <td>NaN</td>\n",
       "    </tr>\n",
       "    <tr>\n",
       "      <th>4</th>\n",
       "      <td>Firm</td>\n",
       "      <td>0.143974</td>\n",
       "      <td>0.0</td>\n",
       "      <td>0.0</td>\n",
       "      <td>1.0</td>\n",
       "      <td>NaN</td>\n",
       "      <td>NaN</td>\n",
       "    </tr>\n",
       "    <tr>\n",
       "      <th rowspan=\"4\" valign=\"top\">4</th>\n",
       "      <th>1</th>\n",
       "      <td>Household</td>\n",
       "      <td>NaN</td>\n",
       "      <td>NaN</td>\n",
       "      <td>NaN</td>\n",
       "      <td>NaN</td>\n",
       "      <td>1.0</td>\n",
       "      <td>0.0</td>\n",
       "    </tr>\n",
       "    <tr>\n",
       "      <th>2</th>\n",
       "      <td>Household</td>\n",
       "      <td>NaN</td>\n",
       "      <td>NaN</td>\n",
       "      <td>NaN</td>\n",
       "      <td>NaN</td>\n",
       "      <td>1.0</td>\n",
       "      <td>0.0</td>\n",
       "    </tr>\n",
       "    <tr>\n",
       "      <th>3</th>\n",
       "      <td>Firm</td>\n",
       "      <td>0.472121</td>\n",
       "      <td>2.0</td>\n",
       "      <td>2.0</td>\n",
       "      <td>1.0</td>\n",
       "      <td>NaN</td>\n",
       "      <td>NaN</td>\n",
       "    </tr>\n",
       "    <tr>\n",
       "      <th>4</th>\n",
       "      <td>Firm</td>\n",
       "      <td>0.143974</td>\n",
       "      <td>0.0</td>\n",
       "      <td>0.0</td>\n",
       "      <td>1.0</td>\n",
       "      <td>NaN</td>\n",
       "      <td>NaN</td>\n",
       "    </tr>\n",
       "    <tr>\n",
       "      <th rowspan=\"4\" valign=\"top\">5</th>\n",
       "      <th>1</th>\n",
       "      <td>Household</td>\n",
       "      <td>NaN</td>\n",
       "      <td>NaN</td>\n",
       "      <td>NaN</td>\n",
       "      <td>NaN</td>\n",
       "      <td>1.0</td>\n",
       "      <td>0.0</td>\n",
       "    </tr>\n",
       "    <tr>\n",
       "      <th>2</th>\n",
       "      <td>Household</td>\n",
       "      <td>NaN</td>\n",
       "      <td>NaN</td>\n",
       "      <td>NaN</td>\n",
       "      <td>NaN</td>\n",
       "      <td>1.0</td>\n",
       "      <td>0.0</td>\n",
       "    </tr>\n",
       "    <tr>\n",
       "      <th>3</th>\n",
       "      <td>Firm</td>\n",
       "      <td>0.472121</td>\n",
       "      <td>2.0</td>\n",
       "      <td>2.0</td>\n",
       "      <td>1.0</td>\n",
       "      <td>NaN</td>\n",
       "      <td>NaN</td>\n",
       "    </tr>\n",
       "    <tr>\n",
       "      <th>4</th>\n",
       "      <td>Firm</td>\n",
       "      <td>0.143974</td>\n",
       "      <td>0.0</td>\n",
       "      <td>0.0</td>\n",
       "      <td>1.0</td>\n",
       "      <td>NaN</td>\n",
       "      <td>NaN</td>\n",
       "    </tr>\n",
       "    <tr>\n",
       "      <th rowspan=\"4\" valign=\"top\">6</th>\n",
       "      <th>1</th>\n",
       "      <td>Household</td>\n",
       "      <td>NaN</td>\n",
       "      <td>NaN</td>\n",
       "      <td>NaN</td>\n",
       "      <td>NaN</td>\n",
       "      <td>1.0</td>\n",
       "      <td>0.0</td>\n",
       "    </tr>\n",
       "    <tr>\n",
       "      <th>2</th>\n",
       "      <td>Household</td>\n",
       "      <td>NaN</td>\n",
       "      <td>NaN</td>\n",
       "      <td>NaN</td>\n",
       "      <td>NaN</td>\n",
       "      <td>1.0</td>\n",
       "      <td>0.0</td>\n",
       "    </tr>\n",
       "    <tr>\n",
       "      <th>3</th>\n",
       "      <td>Firm</td>\n",
       "      <td>0.472121</td>\n",
       "      <td>2.0</td>\n",
       "      <td>2.0</td>\n",
       "      <td>1.0</td>\n",
       "      <td>NaN</td>\n",
       "      <td>NaN</td>\n",
       "    </tr>\n",
       "    <tr>\n",
       "      <th>4</th>\n",
       "      <td>Firm</td>\n",
       "      <td>0.143974</td>\n",
       "      <td>0.0</td>\n",
       "      <td>0.0</td>\n",
       "      <td>1.0</td>\n",
       "      <td>NaN</td>\n",
       "      <td>NaN</td>\n",
       "    </tr>\n",
       "    <tr>\n",
       "      <th rowspan=\"4\" valign=\"top\">7</th>\n",
       "      <th>1</th>\n",
       "      <td>Household</td>\n",
       "      <td>NaN</td>\n",
       "      <td>NaN</td>\n",
       "      <td>NaN</td>\n",
       "      <td>NaN</td>\n",
       "      <td>1.0</td>\n",
       "      <td>0.0</td>\n",
       "    </tr>\n",
       "    <tr>\n",
       "      <th>2</th>\n",
       "      <td>Household</td>\n",
       "      <td>NaN</td>\n",
       "      <td>NaN</td>\n",
       "      <td>NaN</td>\n",
       "      <td>NaN</td>\n",
       "      <td>1.0</td>\n",
       "      <td>0.0</td>\n",
       "    </tr>\n",
       "    <tr>\n",
       "      <th>3</th>\n",
       "      <td>Firm</td>\n",
       "      <td>0.472121</td>\n",
       "      <td>2.0</td>\n",
       "      <td>2.0</td>\n",
       "      <td>1.0</td>\n",
       "      <td>NaN</td>\n",
       "      <td>NaN</td>\n",
       "    </tr>\n",
       "    <tr>\n",
       "      <th>4</th>\n",
       "      <td>Firm</td>\n",
       "      <td>0.143974</td>\n",
       "      <td>0.0</td>\n",
       "      <td>0.0</td>\n",
       "      <td>1.0</td>\n",
       "      <td>NaN</td>\n",
       "      <td>NaN</td>\n",
       "    </tr>\n",
       "    <tr>\n",
       "      <th rowspan=\"4\" valign=\"top\">8</th>\n",
       "      <th>1</th>\n",
       "      <td>Household</td>\n",
       "      <td>NaN</td>\n",
       "      <td>NaN</td>\n",
       "      <td>NaN</td>\n",
       "      <td>NaN</td>\n",
       "      <td>1.0</td>\n",
       "      <td>0.0</td>\n",
       "    </tr>\n",
       "    <tr>\n",
       "      <th>2</th>\n",
       "      <td>Household</td>\n",
       "      <td>NaN</td>\n",
       "      <td>NaN</td>\n",
       "      <td>NaN</td>\n",
       "      <td>NaN</td>\n",
       "      <td>1.0</td>\n",
       "      <td>0.0</td>\n",
       "    </tr>\n",
       "    <tr>\n",
       "      <th>3</th>\n",
       "      <td>Firm</td>\n",
       "      <td>0.472121</td>\n",
       "      <td>2.0</td>\n",
       "      <td>2.0</td>\n",
       "      <td>1.0</td>\n",
       "      <td>NaN</td>\n",
       "      <td>NaN</td>\n",
       "    </tr>\n",
       "    <tr>\n",
       "      <th>4</th>\n",
       "      <td>Firm</td>\n",
       "      <td>0.143974</td>\n",
       "      <td>0.0</td>\n",
       "      <td>0.0</td>\n",
       "      <td>1.0</td>\n",
       "      <td>NaN</td>\n",
       "      <td>NaN</td>\n",
       "    </tr>\n",
       "    <tr>\n",
       "      <th rowspan=\"4\" valign=\"top\">9</th>\n",
       "      <th>1</th>\n",
       "      <td>Household</td>\n",
       "      <td>NaN</td>\n",
       "      <td>NaN</td>\n",
       "      <td>NaN</td>\n",
       "      <td>NaN</td>\n",
       "      <td>1.0</td>\n",
       "      <td>0.0</td>\n",
       "    </tr>\n",
       "    <tr>\n",
       "      <th>2</th>\n",
       "      <td>Household</td>\n",
       "      <td>NaN</td>\n",
       "      <td>NaN</td>\n",
       "      <td>NaN</td>\n",
       "      <td>NaN</td>\n",
       "      <td>1.0</td>\n",
       "      <td>0.0</td>\n",
       "    </tr>\n",
       "    <tr>\n",
       "      <th>3</th>\n",
       "      <td>Firm</td>\n",
       "      <td>0.472121</td>\n",
       "      <td>2.0</td>\n",
       "      <td>2.0</td>\n",
       "      <td>1.0</td>\n",
       "      <td>NaN</td>\n",
       "      <td>NaN</td>\n",
       "    </tr>\n",
       "    <tr>\n",
       "      <th>4</th>\n",
       "      <td>Firm</td>\n",
       "      <td>0.143974</td>\n",
       "      <td>0.0</td>\n",
       "      <td>0.0</td>\n",
       "      <td>1.0</td>\n",
       "      <td>NaN</td>\n",
       "      <td>NaN</td>\n",
       "    </tr>\n",
       "  </tbody>\n",
       "</table>\n",
       "</div>"
      ],
      "text/plain": [
       "                   Type   Quality  Revenue  Quantity_sold  Price  \\\n",
       "Step AgentID                                                       \n",
       "0    1        Household       NaN      NaN            NaN    NaN   \n",
       "     2        Household       NaN      NaN            NaN    NaN   \n",
       "     3             Firm  0.472121      0.0            0.0    1.0   \n",
       "     4             Firm  0.143974      0.0            0.0    1.0   \n",
       "1    1        Household       NaN      NaN            NaN    NaN   \n",
       "     2        Household       NaN      NaN            NaN    NaN   \n",
       "     3             Firm  0.472121      2.0            2.0    1.0   \n",
       "     4             Firm  0.143974      0.0            0.0    1.0   \n",
       "2    1        Household       NaN      NaN            NaN    NaN   \n",
       "     2        Household       NaN      NaN            NaN    NaN   \n",
       "     3             Firm  0.472121      2.0            2.0    1.0   \n",
       "     4             Firm  0.143974      0.0            0.0    1.0   \n",
       "3    1        Household       NaN      NaN            NaN    NaN   \n",
       "     2        Household       NaN      NaN            NaN    NaN   \n",
       "     3             Firm  0.472121      2.0            2.0    1.0   \n",
       "     4             Firm  0.143974      0.0            0.0    1.0   \n",
       "4    1        Household       NaN      NaN            NaN    NaN   \n",
       "     2        Household       NaN      NaN            NaN    NaN   \n",
       "     3             Firm  0.472121      2.0            2.0    1.0   \n",
       "     4             Firm  0.143974      0.0            0.0    1.0   \n",
       "5    1        Household       NaN      NaN            NaN    NaN   \n",
       "     2        Household       NaN      NaN            NaN    NaN   \n",
       "     3             Firm  0.472121      2.0            2.0    1.0   \n",
       "     4             Firm  0.143974      0.0            0.0    1.0   \n",
       "6    1        Household       NaN      NaN            NaN    NaN   \n",
       "     2        Household       NaN      NaN            NaN    NaN   \n",
       "     3             Firm  0.472121      2.0            2.0    1.0   \n",
       "     4             Firm  0.143974      0.0            0.0    1.0   \n",
       "7    1        Household       NaN      NaN            NaN    NaN   \n",
       "     2        Household       NaN      NaN            NaN    NaN   \n",
       "     3             Firm  0.472121      2.0            2.0    1.0   \n",
       "     4             Firm  0.143974      0.0            0.0    1.0   \n",
       "8    1        Household       NaN      NaN            NaN    NaN   \n",
       "     2        Household       NaN      NaN            NaN    NaN   \n",
       "     3             Firm  0.472121      2.0            2.0    1.0   \n",
       "     4             Firm  0.143974      0.0            0.0    1.0   \n",
       "9    1        Household       NaN      NaN            NaN    NaN   \n",
       "     2        Household       NaN      NaN            NaN    NaN   \n",
       "     3             Firm  0.472121      2.0            2.0    1.0   \n",
       "     4             Firm  0.143974      0.0            0.0    1.0   \n",
       "\n",
       "              Initial_budget  budget  \n",
       "Step AgentID                          \n",
       "0    1                   1.0     1.0  \n",
       "     2                   1.0     1.0  \n",
       "     3                   NaN     NaN  \n",
       "     4                   NaN     NaN  \n",
       "1    1                   1.0     0.0  \n",
       "     2                   1.0     0.0  \n",
       "     3                   NaN     NaN  \n",
       "     4                   NaN     NaN  \n",
       "2    1                   1.0     0.0  \n",
       "     2                   1.0     0.0  \n",
       "     3                   NaN     NaN  \n",
       "     4                   NaN     NaN  \n",
       "3    1                   1.0     0.0  \n",
       "     2                   1.0     0.0  \n",
       "     3                   NaN     NaN  \n",
       "     4                   NaN     NaN  \n",
       "4    1                   1.0     0.0  \n",
       "     2                   1.0     0.0  \n",
       "     3                   NaN     NaN  \n",
       "     4                   NaN     NaN  \n",
       "5    1                   1.0     0.0  \n",
       "     2                   1.0     0.0  \n",
       "     3                   NaN     NaN  \n",
       "     4                   NaN     NaN  \n",
       "6    1                   1.0     0.0  \n",
       "     2                   1.0     0.0  \n",
       "     3                   NaN     NaN  \n",
       "     4                   NaN     NaN  \n",
       "7    1                   1.0     0.0  \n",
       "     2                   1.0     0.0  \n",
       "     3                   NaN     NaN  \n",
       "     4                   NaN     NaN  \n",
       "8    1                   1.0     0.0  \n",
       "     2                   1.0     0.0  \n",
       "     3                   NaN     NaN  \n",
       "     4                   NaN     NaN  \n",
       "9    1                   1.0     0.0  \n",
       "     2                   1.0     0.0  \n",
       "     3                   NaN     NaN  \n",
       "     4                   NaN     NaN  "
      ]
     },
     "execution_count": 3,
     "metadata": {},
     "output_type": "execute_result"
    }
   ],
   "source": [
    "a = model.datacollector.get_agent_vars_dataframe()\n",
    "a"
   ]
  },
  {
   "cell_type": "code",
   "execution_count": null,
   "metadata": {},
   "outputs": [],
   "source": [
    "# draw the graph of the last step with  Weight\n",
    "# remove the nodes with no edges\n",
    "for i in range(len(model.graphs)):\n",
    "    if i % 1 == 0:\n",
    "        model.graphs[i].remove_nodes_from(list(nx.isolates(model.graphs[i])))\n",
    "        # color the nodes by type\n",
    "        color_map = []\n",
    "        node_map = []\n",
    "        pos = {}\n",
    "        f = 1\n",
    "        h = 1\n",
    "        for node in model.graphs[i]:\n",
    "            if type(node) is Firm:\n",
    "                color_map.append('blue')\n",
    "                node_map.append(50)\n",
    "                pos[node] = (1, f * 10)\n",
    "                f += 1\n",
    "            else:\n",
    "                color_map.append('red')\n",
    "                node_map.append(2)\n",
    "                pos[node] = (2, h)\n",
    "                h += 1\n",
    "        fig, ax = plt.subplots(1, 1, figsize=(10, 10))\n",
    "        # draw the bipartite graph using the node color map\n",
    "\n",
    "        nx.draw(model.graphs[i], with_labels=False, width=[model.graphs[i][u][v]['weight'] for u,v in model.graphs[i].edges()], node_color = color_map, node_size = node_map, pos=pos)\n",
    "        #plt.show()\n",
    "\n"
   ]
  },
  {
   "cell_type": "code",
   "execution_count": 31,
   "metadata": {},
   "outputs": [],
   "source": [
    "import seaborn as sns\n",
    "\n"
   ]
  },
  {
   "cell_type": "code",
   "execution_count": 33,
   "metadata": {},
   "outputs": [],
   "source": [
    "df = model.datacollector.get_agent_vars_dataframe().reset_index()"
   ]
  },
  {
   "cell_type": "code",
   "execution_count": 34,
   "metadata": {},
   "outputs": [
    {
     "name": "stderr",
     "output_type": "stream",
     "text": [
      "/var/folders/33/dr4cqnzj0597_7n7kbsrfht8cdq0jk/T/ipykernel_15008/3487603048.py:4: SettingWithCopyWarning: \n",
      "A value is trying to be set on a copy of a slice from a DataFrame.\n",
      "Try using .loc[row_indexer,col_indexer] = value instead\n",
      "\n",
      "See the caveats in the documentation: https://pandas.pydata.org/pandas-docs/stable/user_guide/indexing.html#returning-a-view-versus-a-copy\n",
      "  df_firm['Market_share'] = df_firm.groupby(['Step'])['Revenue'].transform(lambda x: x/x.sum())\n",
      "/var/folders/33/dr4cqnzj0597_7n7kbsrfht8cdq0jk/T/ipykernel_15008/3487603048.py:6: SettingWithCopyWarning: \n",
      "A value is trying to be set on a copy of a slice from a DataFrame.\n",
      "Try using .loc[row_indexer,col_indexer] = value instead\n",
      "\n",
      "See the caveats in the documentation: https://pandas.pydata.org/pandas-docs/stable/user_guide/indexing.html#returning-a-view-versus-a-copy\n",
      "  df_firm['R'] = df_firm['Market_share']**2\n"
     ]
    }
   ],
   "source": [
    "# for each Step, computes the HHI for each Firm\n",
    "df_firm = df.loc[df['Type'] == 'Firm']\n",
    "# normalize df_firm['Revenue'] in each Step\n",
    "df_firm['Market_share'] = df_firm.groupby(['Step'])['Revenue'].transform(lambda x: x/x.sum())\n",
    "# square the Market_share\n",
    "df_firm['R'] = df_firm['Market_share']**2\n",
    "# compute the HHI\n",
    "HHI = df_firm.groupby(['Step'])['R'].sum()\n",
    "\n",
    "#df_firm['HHI'] = df_firm.groupby(['Step'])['Revenue'].transform(lambda x: x**2).groupby(['Step', 'Type']).transform('sum')\n",
    "\n"
   ]
  },
  {
   "cell_type": "code",
   "execution_count": 37,
   "metadata": {},
   "outputs": [
    {
     "name": "stderr",
     "output_type": "stream",
     "text": [
      "/var/folders/33/dr4cqnzj0597_7n7kbsrfht8cdq0jk/T/ipykernel_15008/3404758210.py:4: FutureWarning: adjacency_matrix will return a scipy.sparse array instead of a matrix in Networkx 3.0.\n",
      "  prev = nx.adjacency_matrix(model.graphs[i-1]).A\n",
      "/var/folders/33/dr4cqnzj0597_7n7kbsrfht8cdq0jk/T/ipykernel_15008/3404758210.py:5: FutureWarning: adjacency_matrix will return a scipy.sparse array instead of a matrix in Networkx 3.0.\n",
      "  curr = nx.adjacency_matrix(model.graphs[i]).A\n"
     ]
    },
    {
     "data": {
      "text/plain": [
       "[<matplotlib.lines.Line2D at 0x7ff04373e470>]"
      ]
     },
     "execution_count": 37,
     "metadata": {},
     "output_type": "execute_result"
    },
    {
     "data": {
      "image/png": "[encoded data removed]",
      "text/plain": [
       "<Figure size 640x480 with 1 Axes>"
      ]
     },
     "metadata": {},
     "output_type": "display_data"
    }
   ],
   "source": [
    "diff = [0]\n",
    "\n",
    "for i in range(1, len(model.graphs)):\n",
    "    prev = nx.adjacency_matrix(model.graphs[i-1]).A\n",
    "    curr = nx.adjacency_matrix(model.graphs[i]).A\n",
    "    change = sum(sum(abs(curr - prev)))\n",
    "    maximum = sum(sum(prev))\n",
    "    diff.append(change/maximum)\n",
    "\n",
    "plt.plot(diff)"
   ]
  },
  {
   "cell_type": "code",
   "execution_count": 35,
   "metadata": {},
   "outputs": [
    {
     "data": {
      "text/plain": [
       "<AxesSubplot:xlabel='Step'>"
      ]
     },
     "execution_count": 35,
     "metadata": {},
     "output_type": "execute_result"
    },
    {
     "data": {
      "image/png": "[encoded data removed]",
      "text/plain": [
       "<Figure size 640x480 with 1 Axes>"
      ]
     },
     "metadata": {},
     "output_type": "display_data"
    }
   ],
   "source": [
    "HHI.plot()"
   ]
  },
  {
   "cell_type": "code",
   "execution_count": 12,
   "metadata": {},
   "outputs": [
    {
     "ename": "KeyboardInterrupt",
     "evalue": "",
     "output_type": "error",
     "traceback": [
      "\u001b[0;31m---------------------------------------------------------------------------\u001b[0m",
      "\u001b[0;31mKeyboardInterrupt\u001b[0m                         Traceback (most recent call last)",
      "\u001b[1;32m/Users/ataberna/Documents/WWCS_2023/WWCS_2023_markets/model_basic.ipynb Cell 11\u001b[0m in \u001b[0;36m<cell line: 3>\u001b[0;34m()\u001b[0m\n\u001b[1;32m      <a href='vscode-notebook-cell:/Users/ataberna/Documents/WWCS_2023/WWCS_2023_markets/model_basic.ipynb#X31sZmlsZQ%3D%3D?line=0'>1</a>\u001b[0m \u001b[39m#sns.lineplot(data=df, y='Revenue', x='Step', estimator='sum')\u001b[39;00m\n\u001b[1;32m      <a href='vscode-notebook-cell:/Users/ataberna/Documents/WWCS_2023/WWCS_2023_markets/model_basic.ipynb#X31sZmlsZQ%3D%3D?line=1'>2</a>\u001b[0m sns\u001b[39m.\u001b[39mlineplot(data\u001b[39m=\u001b[39mdf, y\u001b[39m=\u001b[39m\u001b[39m'\u001b[39m\u001b[39mbudget\u001b[39m\u001b[39m'\u001b[39m, x\u001b[39m=\u001b[39m\u001b[39m'\u001b[39m\u001b[39mStep\u001b[39m\u001b[39m'\u001b[39m, estimator\u001b[39m=\u001b[39m\u001b[39m'\u001b[39m\u001b[39msum\u001b[39m\u001b[39m'\u001b[39m)\n\u001b[0;32m----> <a href='vscode-notebook-cell:/Users/ataberna/Documents/WWCS_2023/WWCS_2023_markets/model_basic.ipynb#X31sZmlsZQ%3D%3D?line=2'>3</a>\u001b[0m sns\u001b[39m.\u001b[39;49mlineplot(data\u001b[39m=\u001b[39;49mdf, y\u001b[39m=\u001b[39;49m\u001b[39m'\u001b[39;49m\u001b[39mInitial_budget\u001b[39;49m\u001b[39m'\u001b[39;49m, x\u001b[39m=\u001b[39;49m\u001b[39m'\u001b[39;49m\u001b[39mStep\u001b[39;49m\u001b[39m'\u001b[39;49m, estimator\u001b[39m=\u001b[39;49m\u001b[39m'\u001b[39;49m\u001b[39msum\u001b[39;49m\u001b[39m'\u001b[39;49m)\n\u001b[1;32m      <a href='vscode-notebook-cell:/Users/ataberna/Documents/WWCS_2023/WWCS_2023_markets/model_basic.ipynb#X31sZmlsZQ%3D%3D?line=3'>4</a>\u001b[0m sns\u001b[39m.\u001b[39mlineplot(data\u001b[39m=\u001b[39mdf, y\u001b[39m=\u001b[39m\u001b[39m'\u001b[39m\u001b[39mRevenue\u001b[39m\u001b[39m'\u001b[39m, x\u001b[39m=\u001b[39m\u001b[39m'\u001b[39m\u001b[39mStep\u001b[39m\u001b[39m'\u001b[39m, estimator\u001b[39m=\u001b[39m\u001b[39m'\u001b[39m\u001b[39msum\u001b[39m\u001b[39m'\u001b[39m)\n",
      "File \u001b[0;32m~/opt/anaconda3/envs/mesa_lab/lib/python3.10/site-packages/seaborn/relational.py:639\u001b[0m, in \u001b[0;36mlineplot\u001b[0;34m(data, x, y, hue, size, style, units, palette, hue_order, hue_norm, sizes, size_order, size_norm, dashes, markers, style_order, estimator, errorbar, n_boot, seed, orient, sort, err_style, err_kws, legend, ci, ax, **kwargs)\u001b[0m\n\u001b[1;32m    636\u001b[0m color \u001b[39m=\u001b[39m kwargs\u001b[39m.\u001b[39mpop(\u001b[39m\"\u001b[39m\u001b[39mcolor\u001b[39m\u001b[39m\"\u001b[39m, kwargs\u001b[39m.\u001b[39mpop(\u001b[39m\"\u001b[39m\u001b[39mc\u001b[39m\u001b[39m\"\u001b[39m, \u001b[39mNone\u001b[39;00m))\n\u001b[1;32m    637\u001b[0m kwargs[\u001b[39m\"\u001b[39m\u001b[39mcolor\u001b[39m\u001b[39m\"\u001b[39m] \u001b[39m=\u001b[39m _default_color(ax\u001b[39m.\u001b[39mplot, hue, color, kwargs)\n\u001b[0;32m--> 639\u001b[0m p\u001b[39m.\u001b[39;49mplot(ax, kwargs)\n\u001b[1;32m    640\u001b[0m \u001b[39mreturn\u001b[39;00m ax\n",
      "File \u001b[0;32m~/opt/anaconda3/envs/mesa_lab/lib/python3.10/site-packages/seaborn/relational.py:438\u001b[0m, in \u001b[0;36m_LinePlotter.plot\u001b[0;34m(self, ax, kws)\u001b[0m\n\u001b[1;32m    435\u001b[0m     grouped \u001b[39m=\u001b[39m sub_data\u001b[39m.\u001b[39mgroupby(orient, sort\u001b[39m=\u001b[39m\u001b[39mself\u001b[39m\u001b[39m.\u001b[39msort)\n\u001b[1;32m    436\u001b[0m     \u001b[39m# Could pass as_index=False instead of reset_index,\u001b[39;00m\n\u001b[1;32m    437\u001b[0m     \u001b[39m# but that fails on a corner case with older pandas.\u001b[39;00m\n\u001b[0;32m--> 438\u001b[0m     sub_data \u001b[39m=\u001b[39m grouped\u001b[39m.\u001b[39;49mapply(agg, other)\u001b[39m.\u001b[39mreset_index()\n\u001b[1;32m    440\u001b[0m \u001b[39m# TODO this is pretty ad hoc ; see GH2409\u001b[39;00m\n\u001b[1;32m    441\u001b[0m \u001b[39mfor\u001b[39;00m var \u001b[39min\u001b[39;00m \u001b[39m\"\u001b[39m\u001b[39mxy\u001b[39m\u001b[39m\"\u001b[39m:\n",
      "File \u001b[0;32m~/opt/anaconda3/envs/mesa_lab/lib/python3.10/site-packages/pandas/core/groupby/groupby.py:1423\u001b[0m, in \u001b[0;36mGroupBy.apply\u001b[0;34m(self, func, *args, **kwargs)\u001b[0m\n\u001b[1;32m   1421\u001b[0m \u001b[39mwith\u001b[39;00m option_context(\u001b[39m\"\u001b[39m\u001b[39mmode.chained_assignment\u001b[39m\u001b[39m\"\u001b[39m, \u001b[39mNone\u001b[39;00m):\n\u001b[1;32m   1422\u001b[0m     \u001b[39mtry\u001b[39;00m:\n\u001b[0;32m-> 1423\u001b[0m         result \u001b[39m=\u001b[39m \u001b[39mself\u001b[39;49m\u001b[39m.\u001b[39;49m_python_apply_general(f, \u001b[39mself\u001b[39;49m\u001b[39m.\u001b[39;49m_selected_obj)\n\u001b[1;32m   1424\u001b[0m     \u001b[39mexcept\u001b[39;00m \u001b[39mTypeError\u001b[39;00m:\n\u001b[1;32m   1425\u001b[0m         \u001b[39m# gh-20949\u001b[39;00m\n\u001b[1;32m   1426\u001b[0m         \u001b[39m# try again, with .apply acting as a filtering\u001b[39;00m\n\u001b[0;32m   (...)\u001b[0m\n\u001b[1;32m   1430\u001b[0m         \u001b[39m# fails on *some* columns, e.g. a numeric operation\u001b[39;00m\n\u001b[1;32m   1431\u001b[0m         \u001b[39m# on a string grouper column\u001b[39;00m\n\u001b[1;32m   1433\u001b[0m         \u001b[39mwith\u001b[39;00m \u001b[39mself\u001b[39m\u001b[39m.\u001b[39m_group_selection_context():\n",
      "File \u001b[0;32m~/opt/anaconda3/envs/mesa_lab/lib/python3.10/site-packages/pandas/core/groupby/groupby.py:1464\u001b[0m, in \u001b[0;36mGroupBy._python_apply_general\u001b[0;34m(self, f, data, not_indexed_same)\u001b[0m\n\u001b[1;32m   1438\u001b[0m \u001b[39m@final\u001b[39m\n\u001b[1;32m   1439\u001b[0m \u001b[39mdef\u001b[39;00m \u001b[39m_python_apply_general\u001b[39m(\n\u001b[1;32m   1440\u001b[0m     \u001b[39mself\u001b[39m,\n\u001b[0;32m   (...)\u001b[0m\n\u001b[1;32m   1443\u001b[0m     not_indexed_same: \u001b[39mbool\u001b[39m \u001b[39m|\u001b[39m \u001b[39mNone\u001b[39;00m \u001b[39m=\u001b[39m \u001b[39mNone\u001b[39;00m,\n\u001b[1;32m   1444\u001b[0m ) \u001b[39m-\u001b[39m\u001b[39m>\u001b[39m DataFrame \u001b[39m|\u001b[39m Series:\n\u001b[1;32m   1445\u001b[0m     \u001b[39m\"\"\"\u001b[39;00m\n\u001b[1;32m   1446\u001b[0m \u001b[39m    Apply function f in python space\u001b[39;00m\n\u001b[1;32m   1447\u001b[0m \n\u001b[0;32m   (...)\u001b[0m\n\u001b[1;32m   1462\u001b[0m \u001b[39m        data after applying f\u001b[39;00m\n\u001b[1;32m   1463\u001b[0m \u001b[39m    \"\"\"\u001b[39;00m\n\u001b[0;32m-> 1464\u001b[0m     values, mutated \u001b[39m=\u001b[39m \u001b[39mself\u001b[39;49m\u001b[39m.\u001b[39;49mgrouper\u001b[39m.\u001b[39;49mapply(f, data, \u001b[39mself\u001b[39;49m\u001b[39m.\u001b[39;49maxis)\n\u001b[1;32m   1466\u001b[0m     \u001b[39mif\u001b[39;00m not_indexed_same \u001b[39mis\u001b[39;00m \u001b[39mNone\u001b[39;00m:\n\u001b[1;32m   1467\u001b[0m         not_indexed_same \u001b[39m=\u001b[39m mutated \u001b[39mor\u001b[39;00m \u001b[39mself\u001b[39m\u001b[39m.\u001b[39mmutated\n",
      "File \u001b[0;32m~/opt/anaconda3/envs/mesa_lab/lib/python3.10/site-packages/pandas/core/groupby/ops.py:761\u001b[0m, in \u001b[0;36mBaseGrouper.apply\u001b[0;34m(self, f, data, axis)\u001b[0m\n\u001b[1;32m    759\u001b[0m \u001b[39m# group might be modified\u001b[39;00m\n\u001b[1;32m    760\u001b[0m group_axes \u001b[39m=\u001b[39m group\u001b[39m.\u001b[39maxes\n\u001b[0;32m--> 761\u001b[0m res \u001b[39m=\u001b[39m f(group)\n\u001b[1;32m    762\u001b[0m \u001b[39mif\u001b[39;00m \u001b[39mnot\u001b[39;00m mutated \u001b[39mand\u001b[39;00m \u001b[39mnot\u001b[39;00m _is_indexed_like(res, group_axes, axis):\n\u001b[1;32m    763\u001b[0m     mutated \u001b[39m=\u001b[39m \u001b[39mTrue\u001b[39;00m\n",
      "File \u001b[0;32m~/opt/anaconda3/envs/mesa_lab/lib/python3.10/site-packages/pandas/core/groupby/groupby.py:1397\u001b[0m, in \u001b[0;36mGroupBy.apply.<locals>.f\u001b[0;34m(g)\u001b[0m\n\u001b[1;32m   1394\u001b[0m \u001b[39m@wraps\u001b[39m(func)\n\u001b[1;32m   1395\u001b[0m \u001b[39mdef\u001b[39;00m \u001b[39mf\u001b[39m(g):\n\u001b[1;32m   1396\u001b[0m     \u001b[39mwith\u001b[39;00m np\u001b[39m.\u001b[39merrstate(\u001b[39mall\u001b[39m\u001b[39m=\u001b[39m\u001b[39m\"\u001b[39m\u001b[39mignore\u001b[39m\u001b[39m\"\u001b[39m):\n\u001b[0;32m-> 1397\u001b[0m         \u001b[39mreturn\u001b[39;00m func(g, \u001b[39m*\u001b[39;49margs, \u001b[39m*\u001b[39;49m\u001b[39m*\u001b[39;49mkwargs)\n",
      "File \u001b[0;32m~/opt/anaconda3/envs/mesa_lab/lib/python3.10/site-packages/seaborn/_statistics.py:511\u001b[0m, in \u001b[0;36mEstimateAggregator.__call__\u001b[0;34m(self, data, var)\u001b[0m\n\u001b[1;32m    509\u001b[0m \u001b[39melif\u001b[39;00m \u001b[39mself\u001b[39m\u001b[39m.\u001b[39merror_method \u001b[39m==\u001b[39m \u001b[39m\"\u001b[39m\u001b[39mci\u001b[39m\u001b[39m\"\u001b[39m:\n\u001b[1;32m    510\u001b[0m     units \u001b[39m=\u001b[39m data\u001b[39m.\u001b[39mget(\u001b[39m\"\u001b[39m\u001b[39munits\u001b[39m\u001b[39m\"\u001b[39m, \u001b[39mNone\u001b[39;00m)\n\u001b[0;32m--> 511\u001b[0m     boots \u001b[39m=\u001b[39m bootstrap(vals, units\u001b[39m=\u001b[39;49munits, func\u001b[39m=\u001b[39;49m\u001b[39mself\u001b[39;49m\u001b[39m.\u001b[39;49mestimator, \u001b[39m*\u001b[39;49m\u001b[39m*\u001b[39;49m\u001b[39mself\u001b[39;49m\u001b[39m.\u001b[39;49mboot_kws)\n\u001b[1;32m    512\u001b[0m     err_min, err_max \u001b[39m=\u001b[39m _percentile_interval(boots, \u001b[39mself\u001b[39m\u001b[39m.\u001b[39merror_level)\n\u001b[1;32m    514\u001b[0m \u001b[39mreturn\u001b[39;00m pd\u001b[39m.\u001b[39mSeries({var: estimate, \u001b[39mf\u001b[39m\u001b[39m\"\u001b[39m\u001b[39m{\u001b[39;00mvar\u001b[39m}\u001b[39;00m\u001b[39mmin\u001b[39m\u001b[39m\"\u001b[39m: err_min, \u001b[39mf\u001b[39m\u001b[39m\"\u001b[39m\u001b[39m{\u001b[39;00mvar\u001b[39m}\u001b[39;00m\u001b[39mmax\u001b[39m\u001b[39m\"\u001b[39m: err_max})\n",
      "File \u001b[0;32m~/opt/anaconda3/envs/mesa_lab/lib/python3.10/site-packages/seaborn/algorithms.py:96\u001b[0m, in \u001b[0;36mbootstrap\u001b[0;34m(*args, **kwargs)\u001b[0m\n\u001b[1;32m     94\u001b[0m boot_dist \u001b[39m=\u001b[39m []\n\u001b[1;32m     95\u001b[0m \u001b[39mfor\u001b[39;00m i \u001b[39min\u001b[39;00m \u001b[39mrange\u001b[39m(\u001b[39mint\u001b[39m(n_boot)):\n\u001b[0;32m---> 96\u001b[0m     resampler \u001b[39m=\u001b[39m integers(\u001b[39m0\u001b[39;49m, n, n, dtype\u001b[39m=\u001b[39;49mnp\u001b[39m.\u001b[39;49mintp)  \u001b[39m# intp is indexing dtype\u001b[39;00m\n\u001b[1;32m     97\u001b[0m     sample \u001b[39m=\u001b[39m [a\u001b[39m.\u001b[39mtake(resampler, axis\u001b[39m=\u001b[39m\u001b[39m0\u001b[39m) \u001b[39mfor\u001b[39;00m a \u001b[39min\u001b[39;00m args]\n\u001b[1;32m     98\u001b[0m     boot_dist\u001b[39m.\u001b[39mappend(f(\u001b[39m*\u001b[39msample, \u001b[39m*\u001b[39m\u001b[39m*\u001b[39mfunc_kwargs))\n",
      "File \u001b[0;32m_generator.pyx:543\u001b[0m, in \u001b[0;36mnumpy.random._generator.Generator.integers\u001b[0;34m()\u001b[0m\n",
      "File \u001b[0;32m_bounded_integers.pyx:1228\u001b[0m, in \u001b[0;36mnumpy.random._bounded_integers._rand_int64\u001b[0;34m()\u001b[0m\n",
      "File \u001b[0;32m<__array_function__ internals>:180\u001b[0m, in \u001b[0;36mprod\u001b[0;34m(*args, **kwargs)\u001b[0m\n",
      "File \u001b[0;32m~/opt/anaconda3/envs/mesa_lab/lib/python3.10/site-packages/numpy/core/fromnumeric.py:3045\u001b[0m, in \u001b[0;36mprod\u001b[0;34m(a, axis, dtype, out, keepdims, initial, where)\u001b[0m\n\u001b[1;32m   2927\u001b[0m \u001b[39m@array_function_dispatch\u001b[39m(_prod_dispatcher)\n\u001b[1;32m   2928\u001b[0m \u001b[39mdef\u001b[39;00m \u001b[39mprod\u001b[39m(a, axis\u001b[39m=\u001b[39m\u001b[39mNone\u001b[39;00m, dtype\u001b[39m=\u001b[39m\u001b[39mNone\u001b[39;00m, out\u001b[39m=\u001b[39m\u001b[39mNone\u001b[39;00m, keepdims\u001b[39m=\u001b[39mnp\u001b[39m.\u001b[39m_NoValue,\n\u001b[1;32m   2929\u001b[0m          initial\u001b[39m=\u001b[39mnp\u001b[39m.\u001b[39m_NoValue, where\u001b[39m=\u001b[39mnp\u001b[39m.\u001b[39m_NoValue):\n\u001b[1;32m   2930\u001b[0m     \u001b[39m\"\"\"\u001b[39;00m\n\u001b[1;32m   2931\u001b[0m \u001b[39m    Return the product of array elements over a given axis.\u001b[39;00m\n\u001b[1;32m   2932\u001b[0m \n\u001b[0;32m   (...)\u001b[0m\n\u001b[1;32m   3043\u001b[0m \u001b[39m    10\u001b[39;00m\n\u001b[1;32m   3044\u001b[0m \u001b[39m    \"\"\"\u001b[39;00m\n\u001b[0;32m-> 3045\u001b[0m     \u001b[39mreturn\u001b[39;00m _wrapreduction(a, np\u001b[39m.\u001b[39;49mmultiply, \u001b[39m'\u001b[39;49m\u001b[39mprod\u001b[39;49m\u001b[39m'\u001b[39;49m, axis, dtype, out,\n\u001b[1;32m   3046\u001b[0m                           keepdims\u001b[39m=\u001b[39;49mkeepdims, initial\u001b[39m=\u001b[39;49minitial, where\u001b[39m=\u001b[39;49mwhere)\n",
      "File \u001b[0;32m~/opt/anaconda3/envs/mesa_lab/lib/python3.10/site-packages/numpy/core/fromnumeric.py:73\u001b[0m, in \u001b[0;36m_wrapreduction\u001b[0;34m(obj, ufunc, method, axis, dtype, out, **kwargs)\u001b[0m\n\u001b[1;32m     69\u001b[0m \u001b[39mdef\u001b[39;00m \u001b[39m_wrapreduction\u001b[39m(obj, ufunc, method, axis, dtype, out, \u001b[39m*\u001b[39m\u001b[39m*\u001b[39mkwargs):\n\u001b[1;32m     70\u001b[0m     passkwargs \u001b[39m=\u001b[39m {k: v \u001b[39mfor\u001b[39;00m k, v \u001b[39min\u001b[39;00m kwargs\u001b[39m.\u001b[39mitems()\n\u001b[1;32m     71\u001b[0m                   \u001b[39mif\u001b[39;00m v \u001b[39mis\u001b[39;00m \u001b[39mnot\u001b[39;00m np\u001b[39m.\u001b[39m_NoValue}\n\u001b[0;32m---> 73\u001b[0m     \u001b[39mif\u001b[39;00m \u001b[39mtype\u001b[39;49m(obj) \u001b[39mis\u001b[39;00m \u001b[39mnot\u001b[39;00m mu\u001b[39m.\u001b[39mndarray:\n\u001b[1;32m     74\u001b[0m         \u001b[39mtry\u001b[39;00m:\n\u001b[1;32m     75\u001b[0m             reduction \u001b[39m=\u001b[39m \u001b[39mgetattr\u001b[39m(obj, method)\n",
      "\u001b[0;31mKeyboardInterrupt\u001b[0m: "
     ]
    },
    {
     "data": {
      "image/png": "[encoded data removed]",
      "text/plain": [
       "<Figure size 640x480 with 1 Axes>"
      ]
     },
     "metadata": {},
     "output_type": "display_data"
    }
   ],
   "source": [
    "#sns.lineplot(data=df, y='Revenue', x='Step', estimator='sum')\n",
    "sns.lineplot(data=df, y='budget', x='Step', estimator='sum')\n",
    "sns.lineplot(data=df, y='Initial_budget', x='Step', estimator='sum')\n",
    "sns.lineplot(data=df, y='Revenue', x='Step', estimator='sum')\n"
   ]
  },
  {
   "cell_type": "code",
   "execution_count": 14,
   "metadata": {},
   "outputs": [
    {
     "data": {
      "text/plain": [
       "<AxesSubplot:xlabel='Step', ylabel='Price'>"
      ]
     },
     "execution_count": 14,
     "metadata": {},
     "output_type": "execute_result"
    },
    {
     "data": {
      "image/png": "[encoded data removed]",
      "text/plain": [
       "<Figure size 640x480 with 1 Axes>"
      ]
     },
     "metadata": {},
     "output_type": "display_data"
    }
   ],
   "source": [
    "sns.lineplot(data=df_firm, y='Price', x='Step', hue = 'AgentID')"
   ]
  },
  {
   "cell_type": "code",
   "execution_count": 67,
   "metadata": {},
   "outputs": [
    {
     "data": {
      "text/plain": [
       "<AxesSubplot:xlabel='Step', ylabel='Quantity_sold'>"
      ]
     },
     "execution_count": 67,
     "metadata": {},
     "output_type": "execute_result"
    },
    {
     "data": {
      "image/png": "[encoded data removed]",
      "text/plain": [
       "<Figure size 640x480 with 1 Axes>"
      ]
     },
     "metadata": {},
     "output_type": "display_data"
    }
   ],
   "source": [
    "sns.lineplot(data=df, y='Quantity_sold', x='Step', estimator='sum')\n"
   ]
  },
  {
   "cell_type": "code",
   "execution_count": 68,
   "metadata": {},
   "outputs": [
    {
     "data": {
      "text/plain": [
       "<AxesSubplot:xlabel='Step', ylabel='Revenue'>"
      ]
     },
     "execution_count": 68,
     "metadata": {},
     "output_type": "execute_result"
    },
    {
     "data": {
      "image/png": "[encoded data removed]",
      "text/plain": [
       "<Figure size 640x480 with 1 Axes>"
      ]
     },
     "metadata": {},
     "output_type": "display_data"
    }
   ],
   "source": [
    "sns.lineplot(data=df, y='Revenue', x='Step')\n"
   ]
  },
  {
   "cell_type": "code",
   "execution_count": 69,
   "metadata": {},
   "outputs": [
    {
     "data": {
      "text/plain": [
       "<AxesSubplot:>"
      ]
     },
     "execution_count": 69,
     "metadata": {},
     "output_type": "execute_result"
    },
    {
     "data": {
      "image/png": "[encoded data removed]",
      "text/plain": [
       "<Figure size 640x480 with 1 Axes>"
      ]
     },
     "metadata": {},
     "output_type": "display_data"
    }
   ],
   "source": [
    "sns.lineplot(data=df.loc[df['AgentID'] == 1020],\n",
    "             y='Revenue', x='Step', hue='AgentID')\n"
   ]
  },
  {
   "cell_type": "code",
   "execution_count": null,
   "metadata": {},
   "outputs": [],
   "source": [
    "df.loc[(df['Step'] == 0) & (df['Type'] == 'Household')].sort_values('budget')\n"
   ]
  },
  {
   "cell_type": "code",
   "execution_count": null,
   "metadata": {},
   "outputs": [],
   "source": [
    "df.loc[(df['Step'] == 0) & (df['Type'] == 'Firm')].sort_values('Quality')\n"
   ]
  },
  {
   "cell_type": "code",
   "execution_count": null,
   "metadata": {},
   "outputs": [],
   "source": [
    "sns.barplot(data=df.loc[(df['Step'] == 0) & (\n",
    "    df['Type'] == 'Firm')], y='Quality', x='AgentID')\n"
   ]
  },
  {
   "cell_type": "code",
   "execution_count": null,
   "metadata": {},
   "outputs": [],
   "source": [
    "df.loc[df['AgentID'] == 1009]\n"
   ]
  },
  {
   "cell_type": "code",
   "execution_count": null,
   "metadata": {},
   "outputs": [],
   "source": [
    "\n",
    "# for each step plot use seaborn to do a 1x2 plot with the distribution of the \"Price\" and \"Revenue\" of the firms\n",
    "for i in range(steps):\n",
    "    if i % 10 == 0:\n",
    "        df1 = df[df[\"Step\"] == i]\n",
    "        df1 = df1[df1[\"Type\"] == \"Firm\"]\n",
    "        fig, ax = plt.subplots(1, 2, figsize=(12, 5))\n",
    "\n",
    "        sns.histplot(df1[\"Price\"], ax=ax[0])\n",
    "        sns.histplot(df1[\"Revenue\"], ax=ax[1])\n",
    "        # set the title of the plot to the step\n",
    "        fig.suptitle(\"Step \" + str(i))\n",
    "        plt.show()\n"
   ]
  },
  {
   "cell_type": "code",
   "execution_count": 54,
   "metadata": {},
   "outputs": [
    {
     "ename": "ValueError",
     "evalue": "Can only compare identically-labeled Series objects",
     "output_type": "error",
     "traceback": [
      "\u001b[0;31m---------------------------------------------------------------------------\u001b[0m",
      "\u001b[0;31mValueError\u001b[0m                                Traceback (most recent call last)",
      "\u001b[1;32m/Users/ataberna/Documents/WWCS_2023/WWCS_2023_markets/model_basic.ipynb Cell 16\u001b[0m in \u001b[0;36m<cell line: 4>\u001b[0;34m()\u001b[0m\n\u001b[1;32m      <a href='vscode-notebook-cell:/Users/ataberna/Documents/WWCS_2023/WWCS_2023_markets/model_basic.ipynb#X44sZmlsZQ%3D%3D?line=1'>2</a>\u001b[0m df\u001b[39m.\u001b[39mloc[(df[\u001b[39m'\u001b[39m\u001b[39mType\u001b[39m\u001b[39m'\u001b[39m] \u001b[39m==\u001b[39m \u001b[39m\"\u001b[39m\u001b[39mFirm\u001b[39m\u001b[39m\"\u001b[39m) \u001b[39m&\u001b[39m (df[\u001b[39m'\u001b[39m\u001b[39mStep\u001b[39m\u001b[39m'\u001b[39m] \u001b[39m==\u001b[39m \u001b[39m99\u001b[39m)][\u001b[39m'\u001b[39m\u001b[39mRevenue\u001b[39m\u001b[39m'\u001b[39m]\u001b[39m.\u001b[39msum()\n\u001b[1;32m      <a href='vscode-notebook-cell:/Users/ataberna/Documents/WWCS_2023/WWCS_2023_markets/model_basic.ipynb#X44sZmlsZQ%3D%3D?line=2'>3</a>\u001b[0m hhi \u001b[39m=\u001b[39m pd\u001b[39m.\u001b[39mDataFrame(data\u001b[39m=\u001b[39m{\u001b[39m'\u001b[39m\u001b[39mstep\u001b[39m\u001b[39m'\u001b[39m: \u001b[39mrange\u001b[39m(\u001b[39m0\u001b[39m,\u001b[39m100\u001b[39m)})\n\u001b[0;32m----> <a href='vscode-notebook-cell:/Users/ataberna/Documents/WWCS_2023/WWCS_2023_markets/model_basic.ipynb#X44sZmlsZQ%3D%3D?line=3'>4</a>\u001b[0m hhi \u001b[39m=\u001b[39m hhi\u001b[39m.\u001b[39;49massign(volume\u001b[39m=\u001b[39;49m\u001b[39mlambda\u001b[39;49;00m x: df\u001b[39m.\u001b[39;49mloc[(df[\u001b[39m'\u001b[39;49m\u001b[39mType\u001b[39;49m\u001b[39m'\u001b[39;49m] \u001b[39m==\u001b[39;49m \u001b[39m\"\u001b[39;49m\u001b[39mFirm\u001b[39;49m\u001b[39m\"\u001b[39;49m) \u001b[39m&\u001b[39;49m (df[\u001b[39m'\u001b[39;49m\u001b[39mStep\u001b[39;49m\u001b[39m'\u001b[39;49m] \u001b[39m==\u001b[39;49m x\u001b[39m.\u001b[39;49mstep)][\u001b[39m'\u001b[39;49m\u001b[39mRevenue\u001b[39;49m\u001b[39m'\u001b[39;49m]\u001b[39m.\u001b[39;49msum())\n\u001b[1;32m      <a href='vscode-notebook-cell:/Users/ataberna/Documents/WWCS_2023/WWCS_2023_markets/model_basic.ipynb#X44sZmlsZQ%3D%3D?line=4'>5</a>\u001b[0m hhi\n",
      "File \u001b[0;32m~/opt/anaconda3/envs/mesa_lab/lib/python3.10/site-packages/pandas/core/frame.py:4515\u001b[0m, in \u001b[0;36mDataFrame.assign\u001b[0;34m(self, **kwargs)\u001b[0m\n\u001b[1;32m   4512\u001b[0m data \u001b[39m=\u001b[39m \u001b[39mself\u001b[39m\u001b[39m.\u001b[39mcopy()\n\u001b[1;32m   4514\u001b[0m \u001b[39mfor\u001b[39;00m k, v \u001b[39min\u001b[39;00m kwargs\u001b[39m.\u001b[39mitems():\n\u001b[0;32m-> 4515\u001b[0m     data[k] \u001b[39m=\u001b[39m com\u001b[39m.\u001b[39;49mapply_if_callable(v, data)\n\u001b[1;32m   4516\u001b[0m \u001b[39mreturn\u001b[39;00m data\n",
      "File \u001b[0;32m~/opt/anaconda3/envs/mesa_lab/lib/python3.10/site-packages/pandas/core/common.py:358\u001b[0m, in \u001b[0;36mapply_if_callable\u001b[0;34m(maybe_callable, obj, **kwargs)\u001b[0m\n\u001b[1;32m    347\u001b[0m \u001b[39m\"\"\"\u001b[39;00m\n\u001b[1;32m    348\u001b[0m \u001b[39mEvaluate possibly callable input using obj and kwargs if it is callable,\u001b[39;00m\n\u001b[1;32m    349\u001b[0m \u001b[39motherwise return as it is.\u001b[39;00m\n\u001b[0;32m   (...)\u001b[0m\n\u001b[1;32m    355\u001b[0m \u001b[39m**kwargs\u001b[39;00m\n\u001b[1;32m    356\u001b[0m \u001b[39m\"\"\"\u001b[39;00m\n\u001b[1;32m    357\u001b[0m \u001b[39mif\u001b[39;00m callable(maybe_callable):\n\u001b[0;32m--> 358\u001b[0m     \u001b[39mreturn\u001b[39;00m maybe_callable(obj, \u001b[39m*\u001b[39;49m\u001b[39m*\u001b[39;49mkwargs)\n\u001b[1;32m    360\u001b[0m \u001b[39mreturn\u001b[39;00m maybe_callable\n",
      "\u001b[1;32m/Users/ataberna/Documents/WWCS_2023/WWCS_2023_markets/model_basic.ipynb Cell 16\u001b[0m in \u001b[0;36m<lambda>\u001b[0;34m(x)\u001b[0m\n\u001b[1;32m      <a href='vscode-notebook-cell:/Users/ataberna/Documents/WWCS_2023/WWCS_2023_markets/model_basic.ipynb#X44sZmlsZQ%3D%3D?line=1'>2</a>\u001b[0m df\u001b[39m.\u001b[39mloc[(df[\u001b[39m'\u001b[39m\u001b[39mType\u001b[39m\u001b[39m'\u001b[39m] \u001b[39m==\u001b[39m \u001b[39m\"\u001b[39m\u001b[39mFirm\u001b[39m\u001b[39m\"\u001b[39m) \u001b[39m&\u001b[39m (df[\u001b[39m'\u001b[39m\u001b[39mStep\u001b[39m\u001b[39m'\u001b[39m] \u001b[39m==\u001b[39m \u001b[39m99\u001b[39m)][\u001b[39m'\u001b[39m\u001b[39mRevenue\u001b[39m\u001b[39m'\u001b[39m]\u001b[39m.\u001b[39msum()\n\u001b[1;32m      <a href='vscode-notebook-cell:/Users/ataberna/Documents/WWCS_2023/WWCS_2023_markets/model_basic.ipynb#X44sZmlsZQ%3D%3D?line=2'>3</a>\u001b[0m hhi \u001b[39m=\u001b[39m pd\u001b[39m.\u001b[39mDataFrame(data\u001b[39m=\u001b[39m{\u001b[39m'\u001b[39m\u001b[39mstep\u001b[39m\u001b[39m'\u001b[39m: \u001b[39mrange\u001b[39m(\u001b[39m0\u001b[39m,\u001b[39m100\u001b[39m)})\n\u001b[0;32m----> <a href='vscode-notebook-cell:/Users/ataberna/Documents/WWCS_2023/WWCS_2023_markets/model_basic.ipynb#X44sZmlsZQ%3D%3D?line=3'>4</a>\u001b[0m hhi \u001b[39m=\u001b[39m hhi\u001b[39m.\u001b[39massign(volume\u001b[39m=\u001b[39m\u001b[39mlambda\u001b[39;00m x: df\u001b[39m.\u001b[39mloc[(df[\u001b[39m'\u001b[39m\u001b[39mType\u001b[39m\u001b[39m'\u001b[39m] \u001b[39m==\u001b[39m \u001b[39m\"\u001b[39m\u001b[39mFirm\u001b[39m\u001b[39m\"\u001b[39m) \u001b[39m&\u001b[39m (df[\u001b[39m'\u001b[39;49m\u001b[39mStep\u001b[39;49m\u001b[39m'\u001b[39;49m] \u001b[39m==\u001b[39;49m x\u001b[39m.\u001b[39;49mstep)][\u001b[39m'\u001b[39m\u001b[39mRevenue\u001b[39m\u001b[39m'\u001b[39m]\u001b[39m.\u001b[39msum())\n\u001b[1;32m      <a href='vscode-notebook-cell:/Users/ataberna/Documents/WWCS_2023/WWCS_2023_markets/model_basic.ipynb#X44sZmlsZQ%3D%3D?line=4'>5</a>\u001b[0m hhi\n",
      "File \u001b[0;32m~/opt/anaconda3/envs/mesa_lab/lib/python3.10/site-packages/pandas/core/ops/common.py:70\u001b[0m, in \u001b[0;36m_unpack_zerodim_and_defer.<locals>.new_method\u001b[0;34m(self, other)\u001b[0m\n\u001b[1;32m     66\u001b[0m             \u001b[39mreturn\u001b[39;00m \u001b[39mNotImplemented\u001b[39m\n\u001b[1;32m     68\u001b[0m other \u001b[39m=\u001b[39m item_from_zerodim(other)\n\u001b[0;32m---> 70\u001b[0m \u001b[39mreturn\u001b[39;00m method(\u001b[39mself\u001b[39;49m, other)\n",
      "File \u001b[0;32m~/opt/anaconda3/envs/mesa_lab/lib/python3.10/site-packages/pandas/core/arraylike.py:40\u001b[0m, in \u001b[0;36mOpsMixin.__eq__\u001b[0;34m(self, other)\u001b[0m\n\u001b[1;32m     38\u001b[0m \u001b[39m@unpack_zerodim_and_defer\u001b[39m(\u001b[39m\"\u001b[39m\u001b[39m__eq__\u001b[39m\u001b[39m\"\u001b[39m)\n\u001b[1;32m     39\u001b[0m \u001b[39mdef\u001b[39;00m \u001b[39m__eq__\u001b[39m(\u001b[39mself\u001b[39m, other):\n\u001b[0;32m---> 40\u001b[0m     \u001b[39mreturn\u001b[39;00m \u001b[39mself\u001b[39;49m\u001b[39m.\u001b[39;49m_cmp_method(other, operator\u001b[39m.\u001b[39;49meq)\n",
      "File \u001b[0;32m~/opt/anaconda3/envs/mesa_lab/lib/python3.10/site-packages/pandas/core/series.py:5617\u001b[0m, in \u001b[0;36mSeries._cmp_method\u001b[0;34m(self, other, op)\u001b[0m\n\u001b[1;32m   5614\u001b[0m res_name \u001b[39m=\u001b[39m ops\u001b[39m.\u001b[39mget_op_result_name(\u001b[39mself\u001b[39m, other)\n\u001b[1;32m   5616\u001b[0m \u001b[39mif\u001b[39;00m \u001b[39misinstance\u001b[39m(other, Series) \u001b[39mand\u001b[39;00m \u001b[39mnot\u001b[39;00m \u001b[39mself\u001b[39m\u001b[39m.\u001b[39m_indexed_same(other):\n\u001b[0;32m-> 5617\u001b[0m     \u001b[39mraise\u001b[39;00m \u001b[39mValueError\u001b[39;00m(\u001b[39m\"\u001b[39m\u001b[39mCan only compare identically-labeled Series objects\u001b[39m\u001b[39m\"\u001b[39m)\n\u001b[1;32m   5619\u001b[0m lvalues \u001b[39m=\u001b[39m \u001b[39mself\u001b[39m\u001b[39m.\u001b[39m_values\n\u001b[1;32m   5620\u001b[0m rvalues \u001b[39m=\u001b[39m extract_array(other, extract_numpy\u001b[39m=\u001b[39m\u001b[39mTrue\u001b[39;00m, extract_range\u001b[39m=\u001b[39m\u001b[39mTrue\u001b[39;00m)\n",
      "\u001b[0;31mValueError\u001b[0m: Can only compare identically-labeled Series objects"
     ]
    }
   ],
   "source": [
    "firms = df.loc[df['Type'] == \"Firm\"]\n",
    "df.loc[(df['Type'] == \"Firm\") & (df['Step'] == 99)]['Revenue'].sum()\n",
    "hhi = pd.DataFrame(data={'step': range(0,100)})\n",
    "hhi = hhi.assign(volume=lambda x: df.loc[(df['Type'] == \"Firm\") & (df['Step'] == x.step)]['Revenue'].sum())\n",
    "hhi "
   ]
  },
  {
   "cell_type": "code",
   "execution_count": null,
   "metadata": {},
   "outputs": [],
   "source": []
  },
  {
   "cell_type": "code",
   "execution_count": null,
   "metadata": {},
   "outputs": [],
   "source": []
  }
 ],
 "metadata": {
  "kernelspec": {
   "display_name": "mesa_lab",
   "language": "python",
   "name": "python3"
  },
  "language_info": {
   "codemirror_mode": {
    "name": "ipython",
    "version": 3
   },
   "file_extension": ".py",
   "mimetype": "text/x-python",
   "name": "python",
   "nbconvert_exporter": "python",
   "pygments_lexer": "ipython3",
   "version": "3.10.6"
  },
  "orig_nbformat": 4,
  "vscode": {
   "interpreter": {
    "hash": "eb588da5fe55687aa46afd9c5ace01fe24548d9e0eebd8efebcb489d84c4bf6e"
   }
  }
 },
 "nbformat": 4,
 "nbformat_minor": 2
}
